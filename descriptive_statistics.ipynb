{
 "cells": [
  {
   "cell_type": "code",
   "execution_count": 1,
   "metadata": {},
   "outputs": [],
   "source": [
    "import pandas as pd"
   ]
  },
  {
   "cell_type": "code",
   "execution_count": 2,
   "metadata": {},
   "outputs": [],
   "source": [
    "df = pd.read_csv('data/hadoop_issues.csv')"
   ]
  },
  {
   "cell_type": "code",
   "execution_count": 3,
   "metadata": {},
   "outputs": [
    {
     "data": {
      "text/plain": [
       "677"
      ]
     },
     "execution_count": 3,
     "metadata": {},
     "output_type": "execute_result"
    }
   ],
   "source": [
    "len(df)"
   ]
  },
  {
   "cell_type": "code",
   "execution_count": 4,
   "metadata": {},
   "outputs": [
    {
     "data": {
      "text/plain": [
       "stevel@apache.org    78\n",
       "gabor.bota           38\n",
       "danielzhou           34\n",
       "ajisakaa             24\n",
       "ajayydv              23\n",
       "tasanuma0829         21\n",
       "elek                 18\n",
       "mackrorysd           17\n",
       "wujinhu              14\n",
       "bharatviswa          13\n",
       "giovanni.fumarola    11\n",
       "belugabehr           11\n",
       "tmarquardt           11\n",
       "xiaochen             11\n",
       "unclegen              9\n",
       "esmanii               9\n",
       "daryn                 9\n",
       "jack-lee              8\n",
       "zvenczel              8\n",
       "zhenyi                8\n",
       "Name: assignee, dtype: int64"
      ]
     },
     "execution_count": 4,
     "metadata": {},
     "output_type": "execute_result"
    }
   ],
   "source": [
    "df['assignee'].value_counts().head(20)"
   ]
  },
  {
   "cell_type": "code",
   "execution_count": 5,
   "metadata": {},
   "outputs": [
    {
     "data": {
      "text/plain": [
       "stevel@apache.org    0.115214\n",
       "gabor.bota           0.056130\n",
       "danielzhou           0.050222\n",
       "ajisakaa             0.035451\n",
       "ajayydv              0.033973\n",
       "tasanuma0829         0.031019\n",
       "elek                 0.026588\n",
       "mackrorysd           0.025111\n",
       "wujinhu              0.020679\n",
       "bharatviswa          0.019202\n",
       "giovanni.fumarola    0.016248\n",
       "belugabehr           0.016248\n",
       "tmarquardt           0.016248\n",
       "xiaochen             0.016248\n",
       "unclegen             0.013294\n",
       "esmanii              0.013294\n",
       "daryn                0.013294\n",
       "jack-lee             0.011817\n",
       "zvenczel             0.011817\n",
       "zhenyi               0.011817\n",
       "Name: assignee, dtype: float64"
      ]
     },
     "execution_count": 5,
     "metadata": {},
     "output_type": "execute_result"
    }
   ],
   "source": [
    "df['assignee'].value_counts(normalize=True).head(20)"
   ]
  },
  {
   "cell_type": "code",
   "execution_count": 6,
   "metadata": {},
   "outputs": [
    {
     "data": {
      "text/html": [
       "<div>\n",
       "<style scoped>\n",
       "    .dataframe tbody tr th:only-of-type {\n",
       "        vertical-align: middle;\n",
       "    }\n",
       "\n",
       "    .dataframe tbody tr th {\n",
       "        vertical-align: top;\n",
       "    }\n",
       "\n",
       "    .dataframe thead th {\n",
       "        text-align: right;\n",
       "    }\n",
       "</style>\n",
       "<table border=\"1\" class=\"dataframe\">\n",
       "  <thead>\n",
       "    <tr style=\"text-align: right;\">\n",
       "      <th></th>\n",
       "      <th>key</th>\n",
       "      <th>summary</th>\n",
       "      <th>description</th>\n",
       "      <th>assignee</th>\n",
       "    </tr>\n",
       "  </thead>\n",
       "  <tbody>\n",
       "    <tr>\n",
       "      <th>count</th>\n",
       "      <td>677</td>\n",
       "      <td>677</td>\n",
       "      <td>656</td>\n",
       "      <td>677</td>\n",
       "    </tr>\n",
       "    <tr>\n",
       "      <th>unique</th>\n",
       "      <td>677</td>\n",
       "      <td>676</td>\n",
       "      <td>654</td>\n",
       "      <td>158</td>\n",
       "    </tr>\n",
       "    <tr>\n",
       "      <th>top</th>\n",
       "      <td>HADOOP-15721</td>\n",
       "      <td>S3AFileSystem.verifyBucketExists to move to s3...</td>\n",
       "      <td>Adding Netty will allow later using a native T...</td>\n",
       "      <td>stevel@apache.org</td>\n",
       "    </tr>\n",
       "    <tr>\n",
       "      <th>freq</th>\n",
       "      <td>1</td>\n",
       "      <td>2</td>\n",
       "      <td>2</td>\n",
       "      <td>78</td>\n",
       "    </tr>\n",
       "  </tbody>\n",
       "</table>\n",
       "</div>"
      ],
      "text/plain": [
       "                 key                                            summary  \\\n",
       "count            677                                                677   \n",
       "unique           677                                                676   \n",
       "top     HADOOP-15721  S3AFileSystem.verifyBucketExists to move to s3...   \n",
       "freq               1                                                  2   \n",
       "\n",
       "                                              description           assignee  \n",
       "count                                                 656                677  \n",
       "unique                                                654                158  \n",
       "top     Adding Netty will allow later using a native T...  stevel@apache.org  \n",
       "freq                                                    2                 78  "
      ]
     },
     "execution_count": 6,
     "metadata": {},
     "output_type": "execute_result"
    }
   ],
   "source": [
    "df.describe()"
   ]
  },
  {
   "cell_type": "code",
   "execution_count": 7,
   "metadata": {},
   "outputs": [
    {
     "data": {
      "text/html": [
       "<div>\n",
       "<style scoped>\n",
       "    .dataframe tbody tr th:only-of-type {\n",
       "        vertical-align: middle;\n",
       "    }\n",
       "\n",
       "    .dataframe tbody tr th {\n",
       "        vertical-align: top;\n",
       "    }\n",
       "\n",
       "    .dataframe thead th {\n",
       "        text-align: right;\n",
       "    }\n",
       "</style>\n",
       "<table border=\"1\" class=\"dataframe\">\n",
       "  <thead>\n",
       "    <tr style=\"text-align: right;\">\n",
       "      <th></th>\n",
       "      <th>key</th>\n",
       "      <th>summary</th>\n",
       "      <th>description</th>\n",
       "      <th>assignee</th>\n",
       "    </tr>\n",
       "  </thead>\n",
       "  <tbody>\n",
       "    <tr>\n",
       "      <th>0</th>\n",
       "      <td>HADOOP-15994</td>\n",
       "      <td>Upgrade Jackson2 to the latest version</td>\n",
       "      <td>Now Jackson 2.9.5 is used and it is vulnerable...</td>\n",
       "      <td>jack-lee</td>\n",
       "    </tr>\n",
       "    <tr>\n",
       "      <th>1</th>\n",
       "      <td>HADOOP-15990</td>\n",
       "      <td>S3AFileSystem.verifyBucketExists to move to s3...</td>\n",
       "      <td>in S3AFileSystem.initialize(), we check for th...</td>\n",
       "      <td>jack-lee</td>\n",
       "    </tr>\n",
       "    <tr>\n",
       "      <th>2</th>\n",
       "      <td>HADOOP-15989</td>\n",
       "      <td>Synchronized at CompositeService#removeService...</td>\n",
       "      <td>Synchronization at CompositeService#removeServ...</td>\n",
       "      <td>prabhu joseph</td>\n",
       "    </tr>\n",
       "    <tr>\n",
       "      <th>3</th>\n",
       "      <td>HADOOP-15988</td>\n",
       "      <td>Should be able to set empty directory flag to ...</td>\n",
       "      <td>We have the following comment and implementati...</td>\n",
       "      <td>gabor.bota</td>\n",
       "    </tr>\n",
       "    <tr>\n",
       "      <th>4</th>\n",
       "      <td>HADOOP-15987</td>\n",
       "      <td>ITestDynamoDBMetadataStore should check if tes...</td>\n",
       "      <td>The jira covers the following:\\r\\n* We should ...</td>\n",
       "      <td>gabor.bota</td>\n",
       "    </tr>\n",
       "  </tbody>\n",
       "</table>\n",
       "</div>"
      ],
      "text/plain": [
       "            key                                            summary  \\\n",
       "0  HADOOP-15994             Upgrade Jackson2 to the latest version   \n",
       "1  HADOOP-15990  S3AFileSystem.verifyBucketExists to move to s3...   \n",
       "2  HADOOP-15989  Synchronized at CompositeService#removeService...   \n",
       "3  HADOOP-15988  Should be able to set empty directory flag to ...   \n",
       "4  HADOOP-15987  ITestDynamoDBMetadataStore should check if tes...   \n",
       "\n",
       "                                         description       assignee  \n",
       "0  Now Jackson 2.9.5 is used and it is vulnerable...       jack-lee  \n",
       "1  in S3AFileSystem.initialize(), we check for th...       jack-lee  \n",
       "2  Synchronization at CompositeService#removeServ...  prabhu joseph  \n",
       "3  We have the following comment and implementati...     gabor.bota  \n",
       "4  The jira covers the following:\\r\\n* We should ...     gabor.bota  "
      ]
     },
     "execution_count": 7,
     "metadata": {},
     "output_type": "execute_result"
    }
   ],
   "source": [
    "df.head()"
   ]
  },
  {
   "cell_type": "code",
   "execution_count": null,
   "metadata": {},
   "outputs": [],
   "source": []
  }
 ],
 "metadata": {
  "kernelspec": {
   "display_name": "Python 3",
   "language": "python",
   "name": "python3"
  },
  "language_info": {
   "codemirror_mode": {
    "name": "ipython",
    "version": 3
   },
   "file_extension": ".py",
   "mimetype": "text/x-python",
   "name": "python",
   "nbconvert_exporter": "python",
   "pygments_lexer": "ipython3",
   "version": "3.7.3"
  }
 },
 "nbformat": 4,
 "nbformat_minor": 2
}

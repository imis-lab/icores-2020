{
 "cells": [
  {
   "cell_type": "code",
   "execution_count": 1,
   "metadata": {},
   "outputs": [],
   "source": [
    "import pandas as pd\n",
    "from IPython.core.display import display, HTML"
   ]
  },
  {
   "cell_type": "code",
   "execution_count": 2,
   "metadata": {},
   "outputs": [],
   "source": [
    "def descriptive_statistics(file):\n",
    "    df = pd.read_csv(file)\n",
    "    display(len(df))\n",
    "    display(df['assignee'].value_counts().head(30))\n",
    "    display(df['assignee'].value_counts(normalize=True).head(30))\n",
    "    display(HTML(df.head().to_html()))"
   ]
  },
  {
   "cell_type": "code",
   "execution_count": 3,
   "metadata": {},
   "outputs": [],
   "source": [
    "#descriptive_statistics('data/issues_HADOOP.csv')"
   ]
  },
  {
   "cell_type": "code",
   "execution_count": 4,
   "metadata": {},
   "outputs": [],
   "source": [
    "#descriptive_statistics('data/issues_HDFS.csv')"
   ]
  },
  {
   "cell_type": "code",
   "execution_count": 5,
   "metadata": {},
   "outputs": [],
   "source": [
    "import retrieve_apache_foundation_issues"
   ]
  },
  {
   "cell_type": "code",
   "execution_count": 7,
   "metadata": {},
   "outputs": [],
   "source": [
    "reader = retrieve_apache_foundation_issues.DataReader()"
   ]
  },
  {
   "cell_type": "code",
   "execution_count": 8,
   "metadata": {},
   "outputs": [],
   "source": [
    "hadoop_issues = reader.read_issues_from_json_file('data/issues_HADOOP.json', keep_only_issues_with_assignee=True)"
   ]
  },
  {
   "cell_type": "code",
   "execution_count": 9,
   "metadata": {},
   "outputs": [],
   "source": [
    "hdfs_issues = reader.read_issues_from_json_file('data/issues_HDFS.json', keep_only_issues_with_assignee=True)"
   ]
  },
  {
   "cell_type": "code",
   "execution_count": 10,
   "metadata": {},
   "outputs": [],
   "source": [
    "spark_issues = reader.read_issues_from_json_file('data/issues_SPARK.json', keep_only_issues_with_assignee=True)"
   ]
  },
  {
   "cell_type": "code",
   "execution_count": 11,
   "metadata": {},
   "outputs": [],
   "source": [
    "airflow_issues = reader.read_issues_from_json_file('data/issues_AIRFLOW.json', keep_only_issues_with_assignee=True)"
   ]
  },
  {
   "cell_type": "code",
   "execution_count": 12,
   "metadata": {},
   "outputs": [],
   "source": [
    "issues = hadoop_issues + hdfs_issues + spark_issues + airflow_issues"
   ]
  },
  {
   "cell_type": "code",
   "execution_count": 13,
   "metadata": {},
   "outputs": [
    {
     "data": {
      "text/plain": [
       "42398"
      ]
     },
     "execution_count": 13,
     "metadata": {},
     "output_type": "execute_result"
    }
   ],
   "source": [
    "len(issues)"
   ]
  },
  {
   "cell_type": "code",
   "execution_count": null,
   "metadata": {},
   "outputs": [],
   "source": [
    "writer = retrieve_apache_foundation_issues.DataWriter()"
   ]
  },
  {
   "cell_type": "code",
   "execution_count": 14,
   "metadata": {},
   "outputs": [
    {
     "name": "stderr",
     "output_type": "stream",
     "text": [
      "[07/Oct/2019 17:24:02] INFO \u001b[35mWrite project issues to csv file: test.csv\u001b[0m\n",
      "[07/Oct/2019 17:24:02] DEBUG \u001b[35mKeep only issues with assignee: True\u001b[0m\n"
     ]
    }
   ],
   "source": [
    "writer.save_issues_to_csv(filename='test.csv', issues=issues, keep_only_issues_with_assignee=True)"
   ]
  },
  {
   "cell_type": "code",
   "execution_count": 15,
   "metadata": {},
   "outputs": [
    {
     "data": {
      "text/plain": [
       "42398"
      ]
     },
     "metadata": {},
     "output_type": "display_data"
    },
    {
     "data": {
      "text/plain": [
       "rxin                 722\n",
       "szetszwo             706\n",
       "cloud_fan            633\n",
       "tlipcon              561\n",
       "davies               531\n",
       "stevel@apache.org    519\n",
       "joshrosen            458\n",
       "zsxwing              457\n",
       "cmccabe              432\n",
       "owen.omalley         401\n",
       "viirya               395\n",
       "srowen               393\n",
       "mengxr               386\n",
       "hyukjin.kwon         386\n",
       "dongjoon             370\n",
       "smilegator           369\n",
       "cnauroth             347\n",
       "jingzhao             347\n",
       "daryn                341\n",
       "andrewor14           332\n",
       "vanzin               325\n",
       "lian cheng           311\n",
       "hairong              304\n",
       "wheat9               294\n",
       "andrew.wang          290\n",
       "tdas                 274\n",
       "sureshms             271\n",
       "linyiqun             268\n",
       "arpitagarwal         264\n",
       "eli                  263\n",
       "Name: assignee, dtype: int64"
      ]
     },
     "metadata": {},
     "output_type": "display_data"
    },
    {
     "data": {
      "text/plain": [
       "rxin                 0.017029\n",
       "szetszwo             0.016652\n",
       "cloud_fan            0.014930\n",
       "tlipcon              0.013232\n",
       "davies               0.012524\n",
       "stevel@apache.org    0.012241\n",
       "joshrosen            0.010802\n",
       "zsxwing              0.010779\n",
       "cmccabe              0.010189\n",
       "owen.omalley         0.009458\n",
       "viirya               0.009316\n",
       "srowen               0.009269\n",
       "mengxr               0.009104\n",
       "hyukjin.kwon         0.009104\n",
       "dongjoon             0.008727\n",
       "smilegator           0.008703\n",
       "cnauroth             0.008184\n",
       "jingzhao             0.008184\n",
       "daryn                0.008043\n",
       "andrewor14           0.007831\n",
       "vanzin               0.007665\n",
       "lian cheng           0.007335\n",
       "hairong              0.007170\n",
       "wheat9               0.006934\n",
       "andrew.wang          0.006840\n",
       "tdas                 0.006463\n",
       "sureshms             0.006392\n",
       "linyiqun             0.006321\n",
       "arpitagarwal         0.006227\n",
       "eli                  0.006203\n",
       "Name: assignee, dtype: float64"
      ]
     },
     "metadata": {},
     "output_type": "display_data"
    },
    {
     "data": {
      "text/html": [
       "<table border=\"1\" class=\"dataframe\">\n",
       "  <thead>\n",
       "    <tr style=\"text-align: right;\">\n",
       "      <th></th>\n",
       "      <th>key</th>\n",
       "      <th>summary</th>\n",
       "      <th>description</th>\n",
       "      <th>assignee</th>\n",
       "    </tr>\n",
       "  </thead>\n",
       "  <tbody>\n",
       "    <tr>\n",
       "      <th>0</th>\n",
       "      <td>HADOOP-16636</td>\n",
       "      <td>No rule to make target PROTOBUF_PROTOC_EXECUTA...</td>\n",
       "      <td>{noformat}\\r\\n[WARNING] make[1]: Leaving direc...</td>\n",
       "      <td>jhung</td>\n",
       "    </tr>\n",
       "    <tr>\n",
       "      <th>1</th>\n",
       "      <td>HADOOP-16635</td>\n",
       "      <td>S3A innerGetFileStatus scans for directories-o...</td>\n",
       "      <td>The patch in HADOOP-16490 is incomplete: we ar...</td>\n",
       "      <td>stevel@apache.org</td>\n",
       "    </tr>\n",
       "    <tr>\n",
       "      <th>2</th>\n",
       "      <td>HADOOP-16634</td>\n",
       "      <td>S3A ITest failures without S3Guard</td>\n",
       "      <td>This has probably been lurking for a while but...</td>\n",
       "      <td>stevel@apache.org</td>\n",
       "    </tr>\n",
       "    <tr>\n",
       "      <th>3</th>\n",
       "      <td>HADOOP-16632</td>\n",
       "      <td>Speculating &amp; Partitioned S3A magic committers...</td>\n",
       "      <td>Partitioned S3A magic committers can leaving p...</td>\n",
       "      <td>stevel@apache.org</td>\n",
       "    </tr>\n",
       "    <tr>\n",
       "      <th>4</th>\n",
       "      <td>HADOOP-16631</td>\n",
       "      <td>Backport HADOOP-16578 - \"ABFS: fileSystemExist...</td>\n",
       "      <td>ABFS driver should not use container level api...</td>\n",
       "      <td>snvijaya</td>\n",
       "    </tr>\n",
       "  </tbody>\n",
       "</table>"
      ],
      "text/plain": [
       "<IPython.core.display.HTML object>"
      ]
     },
     "metadata": {},
     "output_type": "display_data"
    }
   ],
   "source": [
    "descriptive_statistics('test.csv')"
   ]
  },
  {
   "cell_type": "code",
   "execution_count": 16,
   "metadata": {},
   "outputs": [
    {
     "name": "stderr",
     "output_type": "stream",
     "text": [
      "[07/Oct/2019 17:43:37] INFO \u001b[35mWrite project issues to file: test.json\u001b[0m\n"
     ]
    }
   ],
   "source": [
    "writer.save_issues_to_json('test.json', issues=issues)"
   ]
  },
  {
   "cell_type": "code",
   "execution_count": null,
   "metadata": {},
   "outputs": [],
   "source": []
  }
 ],
 "metadata": {
  "kernelspec": {
   "display_name": "Python 3",
   "language": "python",
   "name": "python3"
  },
  "language_info": {
   "codemirror_mode": {
    "name": "ipython",
    "version": 3
   },
   "file_extension": ".py",
   "mimetype": "text/x-python",
   "name": "python",
   "nbconvert_exporter": "python",
   "pygments_lexer": "ipython3",
   "version": "3.7.2"
  }
 },
 "nbformat": 4,
 "nbformat_minor": 2
}

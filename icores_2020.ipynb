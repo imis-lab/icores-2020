{
 "cells": [
  {
   "cell_type": "markdown",
   "metadata": {},
   "source": [
    "# ICORES 2020"
   ]
  },
  {
   "cell_type": "code",
   "execution_count": 1,
   "metadata": {},
   "outputs": [
    {
     "name": "stderr",
     "output_type": "stream",
     "text": [
      "[nltk_data] Downloading package stopwords to /home/nkanak/nltk_data...\n",
      "[nltk_data]   Package stopwords is already up-to-date!\n",
      "[nltk_data] Downloading package wordnet to /home/nkanak/nltk_data...\n",
      "[nltk_data]   Package wordnet is already up-to-date!\n"
     ]
    }
   ],
   "source": [
    "import csv\n",
    "import json\n",
    "import pandas as pd\n",
    "\n",
    "from sklearn.model_selection import train_test_split\n",
    "from sklearn.feature_extraction.text import CountVectorizer\n",
    "from sklearn.naive_bayes import MultinomialNB\n",
    "\n",
    "import nltk\n",
    "nltk.download('stopwords')\n",
    "from nltk.corpus import stopwords\n",
    "nltk.download('wordnet')\n",
    "from nltk.stem import WordNetLemmatizer\n",
    "wordnet_lemmatizer = WordNetLemmatizer()\n",
    "\n",
    "from nltk.stem import LancasterStemmer\n",
    "stemmer = LancasterStemmer()\n",
    "\n",
    "from lime.lime_text import LimeTextExplainer\n",
    "\n",
    "from ortools.graph import pywrapgraph\n",
    "\n",
    "import numpy as np\n",
    "import matplotlib.pyplot as plt\n",
    "from sklearn.metrics import confusion_matrix\n",
    "\n",
    "from collections import Counter\n",
    "\n",
    "from sklearn.linear_model import LogisticRegression\n",
    "from sklearn.svm import SVC\n",
    "from sklearn.neural_network import MLPClassifier\n",
    "from sklearn.neighbors import KNeighborsClassifier\n",
    "\n",
    "import math\n",
    "\n",
    "from sklearn.metrics import precision_recall_fscore_support\n",
    "\n",
    "from sklearn.externals import joblib\n",
    "\n",
    "import utils\n",
    "\n",
    "%matplotlib inline"
   ]
  },
  {
   "cell_type": "code",
   "execution_count": 2,
   "metadata": {},
   "outputs": [],
   "source": [
    "# Data has been retrieved from the publicly accessible Jira instance of the open source projects of Apache Foundation.\n",
    "# Check this URL: https://issues.apache.org/jira .\n",
    "with open('hadoop_issues.json') as f:\n",
    "    issues = json.load(f)\n",
    "issues = issues['issues']"
   ]
  },
  {
   "cell_type": "code",
   "execution_count": 3,
   "metadata": {},
   "outputs": [],
   "source": [
    "extra_stopwords = [\"a\", \"about\", \"above\", \"after\", \"again\", \"against\", \"ain\", \"all\", \"am\", \"an\", \"and\", \"any\", \"are\", \"aren\", \"aren't\", \"as\", \"at\", \"be\", \"because\", \"been\", \"before\", \"being\", \"below\", \"between\", \"both\", \"but\", \"by\", \"can\", \"couldn\", \"couldn't\", \"d\", \"did\", \"didn\", \"didn't\", \"do\", \"does\", \"doesn\", \"doesn't\", \"doing\", \"don\", \"don't\", \"down\", \"during\", \"each\", \"few\", \"for\", \"from\", \"further\", \"had\", \"hadn\", \"hadn't\", \"has\", \"hasn\", \"hasn't\", \"have\", \"haven\", \"haven't\", \"having\", \"he\", \"her\", \"here\", \"hers\", \"herself\", \"him\", \"himself\", \"his\", \"how\", \"i\", \"if\", \"in\", \"into\", \"is\", \"isn\", \"isn't\", \"it\", \"it's\", \"its\", \"itself\", \"just\", \"ll\", \"m\", \"ma\", \"me\", \"mightn\", \"mightn't\", \"more\", \"most\", \"mustn\", \"mustn't\", \"my\", \"myself\", \"needn\", \"needn't\", \"no\", \"nor\", \"not\", \"now\", \"o\", \"of\", \"off\", \"on\", \"once\", \"only\", \"or\", \"other\", \"our\", \"ours\", \"ourselves\", \"out\", \"over\", \"own\", \"re\", \"s\", \"same\", \"shan\", \"shan't\", \"she\", \"she's\", \"should\", \"should've\", \"shouldn\", \"shouldn't\", \"so\", \"some\", \"such\", \"t\", \"than\", \"that\", \"that'll\", \"the\", \"their\", \"theirs\", \"them\", \"themselves\", \"then\", \"there\", \"these\", \"they\", \"this\", \"those\", \"through\", \"to\", \"too\", \"under\", \"until\", \"up\", \"ve\", \"very\", \"was\", \"wasn\", \"wasn't\", \"we\", \"were\", \"weren\", \"weren't\", \"what\", \"when\", \"where\", \"which\", \"while\", \"who\", \"whom\", \"why\", \"will\", \"with\", \"won\", \"won't\", \"wouldn\", \"wouldn't\", \"y\", \"you\", \"you'd\", \"you'll\", \"you're\", \"you've\", \"your\", \"yours\", \"yourself\", \"yourselves\", \"could\", \"he'd\", \"he'll\", \"he's\", \"here's\", \"how's\", \"i'd\", \"i'll\", \"i'm\", \"i've\", \"let's\", \"ought\", \"she'd\", \"she'll\", \"that's\", \"there's\", \"they'd\", \"they'll\", \"they're\", \"they've\", \"we'd\", \"we'll\", \"we're\", \"we've\", \"what's\", \"when's\", \"where's\", \"who's\", \"why's\", \"would\"]"
   ]
  },
  {
   "cell_type": "code",
   "execution_count": 4,
   "metadata": {},
   "outputs": [],
   "source": [
    "# Keep only the issues with assignee (HADOOP project).\n",
    "issues = [issue for issue in issues if issue['fields'].get('assignee') is not None]"
   ]
  },
  {
   "cell_type": "code",
   "execution_count": 5,
   "metadata": {},
   "outputs": [
    {
     "data": {
      "text/plain": [
       "677"
      ]
     },
     "execution_count": 5,
     "metadata": {},
     "output_type": "execute_result"
    }
   ],
   "source": [
    "len(issues)"
   ]
  },
  {
   "cell_type": "code",
   "execution_count": 6,
   "metadata": {},
   "outputs": [
    {
     "data": {
      "text/plain": [
       "[('stevel@apache.org', 78),\n",
       " ('gabor.bota', 38),\n",
       " ('danielzhou', 34),\n",
       " ('ajisakaa', 24),\n",
       " ('ajayydv', 23),\n",
       " ('tasanuma0829', 21),\n",
       " ('elek', 18),\n",
       " ('mackrorysd', 17),\n",
       " ('wujinhu', 14),\n",
       " ('bharatviswa', 13),\n",
       " ('belugabehr', 11),\n",
       " ('xiaochen', 11),\n",
       " ('tmarquardt', 11),\n",
       " ('giovanni.fumarola', 11),\n",
       " ('daryn', 9),\n",
       " ('esmanii', 9),\n",
       " ('unclegen', 9),\n",
       " ('jack-lee', 8),\n",
       " ('zvenczel', 8),\n",
       " ('zhenyi', 8),\n",
       " ('vishwajeet.dusane', 7)]"
      ]
     },
     "execution_count": 6,
     "metadata": {},
     "output_type": "execute_result"
    }
   ],
   "source": [
    "# TODO: Modify me!\n",
    "NUMBER_OF_DEVELOPERS_INCLUDED = 21\n",
    "most_common = Counter([issue['fields']['assignee']['key'] for issue in issues]).most_common(NUMBER_OF_DEVELOPERS_INCLUDED)\n",
    "most_common"
   ]
  },
  {
   "cell_type": "code",
   "execution_count": 7,
   "metadata": {},
   "outputs": [],
   "source": [
    "included_developers = [developer_name for developer_name, _ in most_common]"
   ]
  },
  {
   "cell_type": "code",
   "execution_count": 8,
   "metadata": {},
   "outputs": [],
   "source": [
    "# Keep only the issues of the 4 most important employees, i.e. employees with the highest number of assigned issues (statistical significance).\n",
    "issues = [issue for issue in issues if issue['fields']['assignee']['key'] in included_developers]"
   ]
  },
  {
   "cell_type": "code",
   "execution_count": 9,
   "metadata": {},
   "outputs": [
    {
     "data": {
      "text/plain": [
       "['stevel@apache.org',\n",
       " 'gabor.bota',\n",
       " 'danielzhou',\n",
       " 'ajisakaa',\n",
       " 'ajayydv',\n",
       " 'tasanuma0829',\n",
       " 'elek',\n",
       " 'mackrorysd',\n",
       " 'wujinhu',\n",
       " 'bharatviswa',\n",
       " 'belugabehr',\n",
       " 'xiaochen',\n",
       " 'tmarquardt',\n",
       " 'giovanni.fumarola',\n",
       " 'daryn',\n",
       " 'esmanii',\n",
       " 'unclegen',\n",
       " 'jack-lee',\n",
       " 'zvenczel',\n",
       " 'zhenyi',\n",
       " 'vishwajeet.dusane']"
      ]
     },
     "execution_count": 9,
     "metadata": {},
     "output_type": "execute_result"
    }
   ],
   "source": [
    "included_developers"
   ]
  },
  {
   "cell_type": "code",
   "execution_count": 10,
   "metadata": {},
   "outputs": [
    {
     "data": {
      "text/plain": [
       "21"
      ]
     },
     "execution_count": 10,
     "metadata": {},
     "output_type": "execute_result"
    }
   ],
   "source": [
    "len(included_developers)"
   ]
  },
  {
   "cell_type": "code",
   "execution_count": 11,
   "metadata": {},
   "outputs": [
    {
     "data": {
      "text/plain": [
       "382"
      ]
     },
     "execution_count": 11,
     "metadata": {},
     "output_type": "execute_result"
    }
   ],
   "source": [
    "len(issues)"
   ]
  },
  {
   "cell_type": "code",
   "execution_count": 12,
   "metadata": {},
   "outputs": [
    {
     "name": "stdout",
     "output_type": "stream",
     "text": [
      "{'esmanii': 0, 'daryn': 1, 'tmarquardt': 2, 'unclegen': 3, 'zhenyi': 4, 'zvenczel': 5, 'gabor.bota': 6, 'ajayydv': 7, 'mackrorysd': 8, 'giovanni.fumarola': 9, 'tasanuma0829': 10, 'elek': 11, 'wujinhu': 12, 'ajisakaa': 13, 'belugabehr': 14, 'jack-lee': 15, 'vishwajeet.dusane': 16, 'danielzhou': 17, 'xiaochen': 18, 'bharatviswa': 19, 'stevel@apache.org': 20}\n"
     ]
    }
   ],
   "source": [
    "unique_assignees_to_number_mapping = {assignee: key for key, assignee in enumerate(list(set(issue['fields']['assignee']['key'] for issue in issues)))}\n",
    "unique_person_names = sorted([key for key in unique_assignees_to_number_mapping], key=lambda name: unique_assignees_to_number_mapping[name])\n",
    "print(unique_assignees_to_number_mapping)\n",
    "utils.pickle_object('pickled_objects/all_issues_unique_person_names.gz', unique_person_names)\n",
    "utils.pickle_object('pickled_objects/all_issues_class_names.gz', unique_person_names)"
   ]
  },
  {
   "cell_type": "code",
   "execution_count": 13,
   "metadata": {},
   "outputs": [],
   "source": [
    "columns = {\n",
    "    'class': [issue['fields']['assignee']['key'] for issue in issues],\n",
    "    'text': [(issue['fields']['description'] if issue['fields']['description'] is not None else '') + ' ' + issue['fields']['summary'] for issue in issues],\n",
    "}"
   ]
  },
  {
   "cell_type": "code",
   "execution_count": 14,
   "metadata": {},
   "outputs": [],
   "source": [
    "# Compose and clean up text.\n",
    "# The text of each issue is composed of two attrributes, namely description and summary (see above).\n",
    "# Removal of english stop words is performed as well as lemmatization and stemming.\n",
    "# Lemmatization (a Text Normalization technique) is the process of grouping together the different inflected forms of a word so they can be analysed as a single item.\n",
    "# Stemming is the process of reducing inflected (or sometimes derived) words to their base or root form.\n",
    "# Lemmatization, unlike Stemming, reduces the inflected words properly ensuring that the root word belongs to the language. In Lemmatization root word is called Lemma.\n",
    "# Stemming is different to Lemmatization in the approach it uses to produce root forms of words and the word produced.\n",
    "# Also lemmatization and stemming techniques decrease the number of features of each row as far as machine learning is concerned.\n",
    "for i in range(len(columns['text'])):\n",
    "    columns['text'][i] = ' '.join([stemmer.stem(wordnet_lemmatizer.lemmatize(word.lower(), pos='v')) for word in columns['text'][i].split() if word.lower() not in stopwords.words('english') + extra_stopwords])"
   ]
  },
  {
   "cell_type": "code",
   "execution_count": 15,
   "metadata": {},
   "outputs": [],
   "source": [
    "issues_df = pd.DataFrame.from_dict(columns)"
   ]
  },
  {
   "cell_type": "code",
   "execution_count": 16,
   "metadata": {
    "scrolled": true
   },
   "outputs": [
    {
     "data": {
      "text/plain": [
       "stevel@apache.org    78\n",
       "gabor.bota           38\n",
       "danielzhou           34\n",
       "ajisakaa             24\n",
       "ajayydv              23\n",
       "tasanuma0829         21\n",
       "elek                 18\n",
       "mackrorysd           17\n",
       "wujinhu              14\n",
       "bharatviswa          13\n",
       "xiaochen             11\n",
       "belugabehr           11\n",
       "giovanni.fumarola    11\n",
       "tmarquardt           11\n",
       "unclegen              9\n",
       "daryn                 9\n",
       "esmanii               9\n",
       "zvenczel              8\n",
       "jack-lee              8\n",
       "zhenyi                8\n",
       "vishwajeet.dusane     7\n",
       "Name: class, dtype: int64"
      ]
     },
     "execution_count": 16,
     "metadata": {},
     "output_type": "execute_result"
    }
   ],
   "source": [
    "issues_df['class'].value_counts()"
   ]
  },
  {
   "cell_type": "code",
   "execution_count": 17,
   "metadata": {},
   "outputs": [
    {
     "data": {
      "text/plain": [
       "Text(0, 0.5, 'number of issues')"
      ]
     },
     "execution_count": 17,
     "metadata": {},
     "output_type": "execute_result"
    },
    {
     "data": {
      "image/png": "[encoded data removed]",
      "text/plain": [
       "<Figure size 432x288 with 1 Axes>"
      ]
     },
     "metadata": {
      "needs_background": "light"
     },
     "output_type": "display_data"
    }
   ],
   "source": [
    "ax = issues_df['class'].value_counts().plot(kind='bar')\n",
    "ax.set_xlabel('labels (developers)')\n",
    "ax.set_ylabel('number of issues')"
   ]
  },
  {
   "cell_type": "code",
   "execution_count": 18,
   "metadata": {},
   "outputs": [
    {
     "data": {
      "text/plain": [
       "stevel@apache.org    0.204188\n",
       "gabor.bota           0.099476\n",
       "danielzhou           0.089005\n",
       "ajisakaa             0.062827\n",
       "ajayydv              0.060209\n",
       "tasanuma0829         0.054974\n",
       "elek                 0.047120\n",
       "mackrorysd           0.044503\n",
       "wujinhu              0.036649\n",
       "bharatviswa          0.034031\n",
       "xiaochen             0.028796\n",
       "belugabehr           0.028796\n",
       "giovanni.fumarola    0.028796\n",
       "tmarquardt           0.028796\n",
       "unclegen             0.023560\n",
       "daryn                0.023560\n",
       "esmanii              0.023560\n",
       "zvenczel             0.020942\n",
       "jack-lee             0.020942\n",
       "zhenyi               0.020942\n",
       "vishwajeet.dusane    0.018325\n",
       "Name: class, dtype: float64"
      ]
     },
     "execution_count": 18,
     "metadata": {},
     "output_type": "execute_result"
    }
   ],
   "source": [
    "issues_df['class'].value_counts(normalize=True)"
   ]
  },
  {
   "cell_type": "markdown",
   "metadata": {},
   "source": [
    "## Example"
   ]
  },
  {
   "cell_type": "code",
   "execution_count": 19,
   "metadata": {},
   "outputs": [],
   "source": [
    "issues_df['label'] = issues_df['class'].map(unique_assignees_to_number_mapping)\n",
    "issues_df.to_pickle('pickled_objects/all_issues_df.pickle')"
   ]
  },
  {
   "cell_type": "code",
   "execution_count": 20,
   "metadata": {},
   "outputs": [
    {
     "name": "stdout",
     "output_type": "stream",
     "text": [
      "Train size 255\n",
      "Test size 127\n",
      "Number of features 4143\n"
     ]
    }
   ],
   "source": [
    "X = issues_df['text']\n",
    "y = issues_df['label']\n",
    "\n",
    "# Tokenization, tag/feature generation and removal of frequently occured tags/words.\n",
    "cv = CountVectorizer(stop_words='english', max_df=0.6)\n",
    "X_transformed = cv.fit_transform(X)\n",
    "\n",
    "utils.pickle_object('pickled_objects/all_issues_count_vectorizer.gz', cv)\n",
    "\n",
    "X_train, X_test, y_train, y_test, indices_train, indices_test = train_test_split(X_transformed, y, range(0, len(issues_df)), test_size=0.33, random_state=42)\n",
    "print('Train size %s' % X_train.shape[0])\n",
    "print('Test size %s' % X_test.shape[0])\n",
    "print('Number of features %s' % X_test.shape[1])"
   ]
  },
  {
   "cell_type": "code",
   "execution_count": 21,
   "metadata": {},
   "outputs": [
    {
     "name": "stdout",
     "output_type": "stream",
     "text": [
      "Naive bayes #####\n",
      "0.4566929133858268\n",
      "(0.4566929133858268, 0.4566929133858268, 0.4566929133858268, None)\n",
      "(0.33840869681205815, 0.2843650793650794, 0.2801075435820717, None)\n",
      "(0.39968514965041135, 0.4566929133858268, 0.39681921664343434, None)\n",
      "Logistic Regression #####\n"
     ]
    },
    {
     "name": "stderr",
     "output_type": "stream",
     "text": [
      "/home/nkanak/anaconda3/lib/python3.7/site-packages/sklearn/metrics/classification.py:1143: UndefinedMetricWarning: Precision and F-score are ill-defined and being set to 0.0 in labels with no predicted samples.\n",
      "  'precision', 'predicted', average, warn_for)\n"
     ]
    },
    {
     "name": "stdout",
     "output_type": "stream",
     "text": [
      "0.47244094488188976\n",
      "(0.47244094488188976, 0.47244094488188976, 0.47244094488188976, None)\n",
      "(0.4376543209876543, 0.348140589569161, 0.34953366387238055, None)\n",
      "(0.4752989209682123, 0.47244094488188976, 0.4249928727683172, None)\n",
      "SVM ######\n",
      "0.2047244094488189\n",
      "(0.2047244094488189, 0.2047244094488189, 0.2047244094488189, None)\n",
      "(0.02841530054644809, 0.05251700680272108, 0.025574139430208174, None)\n",
      "(0.08281915580224604, 0.2047244094488189, 0.08748530493838647, None)\n",
      "k-NN #####\n",
      "number of neighbors: 9\n",
      "0.18110236220472442\n",
      "(0.18110236220472442, 0.18110236220472442, 0.18110236220472442, None)\n",
      "(0.19986309986309986, 0.14520408163265305, 0.11011106717393712, None)\n",
      "(0.2960758401703284, 0.18110236220472442, 0.170884274200531, None)\n",
      "k-NN sqrt #####\n",
      "number of neighbors: 20\n",
      "0.13385826771653545\n",
      "(0.13385826771653545, 0.13385826771653545, 0.13385826771653545, None)\n",
      "(0.1603756818042532, 0.09807256235827663, 0.09066753854646033, None)\n",
      "(0.2241439414667761, 0.13385826771653545, 0.12894488849722127, None)\n",
      "Neural Network 1000 500 #####\n"
     ]
    },
    {
     "name": "stderr",
     "output_type": "stream",
     "text": [
      "/home/nkanak/anaconda3/lib/python3.7/site-packages/sklearn/metrics/classification.py:1143: UndefinedMetricWarning: Precision and F-score are ill-defined and being set to 0.0 in labels with no predicted samples.\n",
      "  'precision', 'predicted', average, warn_for)\n",
      "/home/nkanak/anaconda3/lib/python3.7/site-packages/sklearn/metrics/classification.py:1143: UndefinedMetricWarning: Precision and F-score are ill-defined and being set to 0.0 in labels with no predicted samples.\n",
      "  'precision', 'predicted', average, warn_for)\n",
      "/home/nkanak/anaconda3/lib/python3.7/site-packages/sklearn/metrics/classification.py:1143: UndefinedMetricWarning: Precision and F-score are ill-defined and being set to 0.0 in labels with no predicted samples.\n",
      "  'precision', 'predicted', average, warn_for)\n"
     ]
    },
    {
     "name": "stdout",
     "output_type": "stream",
     "text": [
      "0.5196850393700787\n",
      "(0.5196850393700787, 0.5196850393700787, 0.5196850393700787, None)\n",
      "(0.4579596990311276, 0.3899319727891156, 0.38704009364107894, None)\n",
      "(0.5788688345774959, 0.5196850393700787, 0.5143186882203988, None)\n"
     ]
    },
    {
     "name": "stderr",
     "output_type": "stream",
     "text": [
      "/home/nkanak/anaconda3/lib/python3.7/site-packages/sklearn/metrics/classification.py:1143: UndefinedMetricWarning: Precision and F-score are ill-defined and being set to 0.0 in labels with no predicted samples.\n",
      "  'precision', 'predicted', average, warn_for)\n"
     ]
    },
    {
     "data": {
      "text/plain": [
       "\"print('Neural Network 2000 1000 #####')\\nneural_clf = MLPClassifier(solver='adam', hidden_layer_sizes=(2000, 1000), random_state=42)\\nneural_clf.fit(X_train, y_train)\\nprint(neural_clf.score(X_test, y_test))\\ny_predicted = neural_clf.predict(X_test)\\nprint(precision_recall_fscore_support(y_test, y_predicted, average='micro'))\\nprint(precision_recall_fscore_support(y_test, y_predicted, average='macro'))\\nprint(precision_recall_fscore_support(y_test, y_predicted, average='weighted'))\\npickle_model('trained_models/neural_clf_2000_1000.gz', neural_clf)\\n\\nprint('Neural Network 3000 2000 #####')\\nneural_clf = MLPClassifier(solver='adam', hidden_layer_sizes=(3000, 2000), random_state=42)\\nneural_clf.fit(X_train, y_train)\\nprint(neural_clf.score(X_test, y_test))\\ny_predicted = neural_clf.predict(X_test)\\nprint(precision_recall_fscore_support(y_test, y_predicted, average='micro'))\\nprint(precision_recall_fscore_support(y_test, y_predicted, average='macro'))\\nprint(precision_recall_fscore_support(y_test, y_predicted, average='weighted'))\\npickle_model('trained_models/neural_clf_3000_2000.gz', neural_clf)\\n\\nprint('Neural Network 4000 1000 #####')\\nneural_clf = MLPClassifier(solver='adam', hidden_layer_sizes=(4000, 1000), random_state=42)\\nneural_clf.fit(X_train, y_train)\\nprint(neural_clf.score(X_test, y_test))\\ny_predicted = neural_clf.predict(X_test)\\nprint(precision_recall_fscore_support(y_test, y_predicted, average='micro'))\\nprint(precision_recall_fscore_support(y_test, y_predicted, average='macro'))\\nprint(precision_recall_fscore_support(y_test, y_predicted, average='weighted'))\\npickle_model('trained_models/neural_clf_4000_1000.gz', neural_clf)\\n\""
      ]
     },
     "execution_count": 21,
     "metadata": {},
     "output_type": "execute_result"
    }
   ],
   "source": [
    "def pickle_model(filename, model):\n",
    "    joblib.dump(model, filename)\n",
    "\n",
    "# Naive Bayes classifier for multinomial models.\n",
    "# The multinomial Naive Bayes classifier is suitable for classification with discrete features (e.g., word counts for text classification).\n",
    "# The multinomial distribution normally requires integer feature counts. However, in practice, fractional counts such as tf-idf may also work.\n",
    "print('Naive bayes #####')\n",
    "naive_clf = MultinomialNB()\n",
    "naive_clf.fit(X_train,y_train)\n",
    "print(naive_clf.score(X_test,y_test))\n",
    "y_predicted = naive_clf.predict(X_test)\n",
    "print(precision_recall_fscore_support(y_test, y_predicted, average='micro'))\n",
    "print(precision_recall_fscore_support(y_test, y_predicted, average='macro'))\n",
    "print(precision_recall_fscore_support(y_test, y_predicted, average='weighted'))\n",
    "pickle_model('trained_models/naive_clf.gz', naive_clf)\n",
    "\n",
    "print('Logistic Regression #####')\n",
    "logistic_clf = LogisticRegression(random_state=0, solver='lbfgs', multi_class='multinomial')\n",
    "logistic_clf.fit(X_train, y_train)\n",
    "print(logistic_clf.score(X_test, y_test))\n",
    "y_predicted = logistic_clf.predict(X_test)\n",
    "print(precision_recall_fscore_support(y_test, y_predicted, average='micro'))\n",
    "print(precision_recall_fscore_support(y_test, y_predicted, average='macro'))\n",
    "print(precision_recall_fscore_support(y_test, y_predicted, average='weighted'))\n",
    "pickle_model('trained_models/logistic_clf.gz', logistic_clf)\n",
    "\n",
    "print('SVM ######')\n",
    "svm_clf = SVC(gamma='auto') \n",
    "svm_clf.fit(X_train, y_train)\n",
    "print(svm_clf.score(X_test, y_test))\n",
    "y_predicted = svm_clf.predict(X_test)\n",
    "print(precision_recall_fscore_support(y_test, y_predicted, average='micro'))\n",
    "print(precision_recall_fscore_support(y_test, y_predicted, average='macro'))\n",
    "print(precision_recall_fscore_support(y_test, y_predicted, average='weighted'))\n",
    "pickle_model('trained_models/svm_clf.gz', svm_clf)\n",
    "\n",
    "print('k-NN #####')\n",
    "number_of_neighbors = math.ceil(math.log2(len(issues_df)))\n",
    "print('number of neighbors: %s' % (number_of_neighbors))\n",
    "knn_clf = KNeighborsClassifier(n_neighbors=number_of_neighbors)\n",
    "knn_clf.fit(X_train, y_train)\n",
    "print(knn_clf.score(X_test, y_test))\n",
    "y_predicted = knn_clf.predict(X_test)\n",
    "print(precision_recall_fscore_support(y_test, y_predicted, average='micro'))\n",
    "print(precision_recall_fscore_support(y_test, y_predicted, average='macro'))\n",
    "print(precision_recall_fscore_support(y_test, y_predicted, average='weighted'))\n",
    "pickle_model('trained_models/knn_clf.gz', knn_clf)\n",
    "\n",
    "print('k-NN sqrt #####')\n",
    "number_of_neighbors = math.ceil(math.sqrt(len(issues_df)))\n",
    "print('number of neighbors: %s' % (number_of_neighbors))\n",
    "knn_clf = KNeighborsClassifier(n_neighbors=number_of_neighbors)\n",
    "knn_clf.fit(X_train, y_train)\n",
    "print(knn_clf.score(X_test, y_test))\n",
    "y_predicted = knn_clf.predict(X_test)\n",
    "print(precision_recall_fscore_support(y_test, y_predicted, average='micro'))\n",
    "print(precision_recall_fscore_support(y_test, y_predicted, average='macro'))\n",
    "print(precision_recall_fscore_support(y_test, y_predicted, average='weighted'))\n",
    "pickle_model('trained_models/knn_clf_sqrt.gz', knn_clf)\n",
    "\n",
    "print('Neural Network 1000 500 #####')\n",
    "neural_clf = MLPClassifier(solver='adam', hidden_layer_sizes=(1000, 500), random_state=42)\n",
    "neural_clf.fit(X_train, y_train)\n",
    "print(neural_clf.score(X_test, y_test))\n",
    "y_predicted = neural_clf.predict(X_test)\n",
    "print(precision_recall_fscore_support(y_test, y_predicted, average='micro'))\n",
    "print(precision_recall_fscore_support(y_test, y_predicted, average='macro'))\n",
    "print(precision_recall_fscore_support(y_test, y_predicted, average='weighted'))\n",
    "pickle_model('trained_models/neural_clf_1000_500.gz', neural_clf)\n",
    "\n",
    "\"\"\"print('Neural Network 2000 1000 #####')\n",
    "neural_clf = MLPClassifier(solver='adam', hidden_layer_sizes=(2000, 1000), random_state=42)\n",
    "neural_clf.fit(X_train, y_train)\n",
    "print(neural_clf.score(X_test, y_test))\n",
    "y_predicted = neural_clf.predict(X_test)\n",
    "print(precision_recall_fscore_support(y_test, y_predicted, average='micro'))\n",
    "print(precision_recall_fscore_support(y_test, y_predicted, average='macro'))\n",
    "print(precision_recall_fscore_support(y_test, y_predicted, average='weighted'))\n",
    "pickle_model('trained_models/neural_clf_2000_1000.gz', neural_clf)\n",
    "\n",
    "print('Neural Network 3000 2000 #####')\n",
    "neural_clf = MLPClassifier(solver='adam', hidden_layer_sizes=(3000, 2000), random_state=42)\n",
    "neural_clf.fit(X_train, y_train)\n",
    "print(neural_clf.score(X_test, y_test))\n",
    "y_predicted = neural_clf.predict(X_test)\n",
    "print(precision_recall_fscore_support(y_test, y_predicted, average='micro'))\n",
    "print(precision_recall_fscore_support(y_test, y_predicted, average='macro'))\n",
    "print(precision_recall_fscore_support(y_test, y_predicted, average='weighted'))\n",
    "pickle_model('trained_models/neural_clf_3000_2000.gz', neural_clf)\n",
    "\n",
    "print('Neural Network 4000 1000 #####')\n",
    "neural_clf = MLPClassifier(solver='adam', hidden_layer_sizes=(4000, 1000), random_state=42)\n",
    "neural_clf.fit(X_train, y_train)\n",
    "print(neural_clf.score(X_test, y_test))\n",
    "y_predicted = neural_clf.predict(X_test)\n",
    "print(precision_recall_fscore_support(y_test, y_predicted, average='micro'))\n",
    "print(precision_recall_fscore_support(y_test, y_predicted, average='macro'))\n",
    "print(precision_recall_fscore_support(y_test, y_predicted, average='weighted'))\n",
    "pickle_model('trained_models/neural_clf_4000_1000.gz', neural_clf)\n",
    "\"\"\""
   ]
  },
  {
   "cell_type": "code",
   "execution_count": 22,
   "metadata": {},
   "outputs": [
    {
     "data": {
      "text/plain": [
       "4143"
      ]
     },
     "execution_count": 22,
     "metadata": {},
     "output_type": "execute_result"
    }
   ],
   "source": [
    "len(cv.vocabulary_)"
   ]
  },
  {
   "cell_type": "code",
   "execution_count": 23,
   "metadata": {},
   "outputs": [
    {
     "data": {
      "text/plain": [
       "4143"
      ]
     },
     "execution_count": 23,
     "metadata": {},
     "output_type": "execute_result"
    }
   ],
   "source": [
    "len(cv.get_feature_names())"
   ]
  },
  {
   "cell_type": "code",
   "execution_count": 24,
   "metadata": {},
   "outputs": [
    {
     "data": {
      "text/plain": [
       "0"
      ]
     },
     "execution_count": 24,
     "metadata": {},
     "output_type": "execute_result"
    }
   ],
   "source": [
    "len(cv.stop_words_)"
   ]
  },
  {
   "cell_type": "code",
   "execution_count": 25,
   "metadata": {},
   "outputs": [],
   "source": [
    "# arr = X_transformed.toarray()"
   ]
  },
  {
   "cell_type": "code",
   "execution_count": 26,
   "metadata": {},
   "outputs": [
    {
     "data": {
      "text/plain": [
       "\"fieldnames = ['assignee', 'word']\\nwith open('word_frequencies_per_assignee.csv', 'w') as f:\\n    csv_writer = csv.DictWriter(f, fieldnames=fieldnames)\\n    csv_writer.writeheader()\\n    for name in unique_person_names:\\n        x = issues_df[issues_df['class'] == name].index.values.tolist()\\n        for i in range(arr.shape[1]):\\n            if arr[x, i].sum() > 0:\\n                for idx in range(arr[x, i].sum()):\\n                    csv_writer.writerow({\\n                        'assignee': name,\\n                        'word': cv.get_feature_names()[i],\\n                        #'frequency': arr[x, i].sum(),\\n                    })\\n                #print((name, cv.get_feature_names()[i], arr[x, i].sum()))\\n\""
      ]
     },
     "execution_count": 26,
     "metadata": {},
     "output_type": "execute_result"
    }
   ],
   "source": [
    "\"\"\"fieldnames = ['assignee', 'word']\n",
    "with open('word_frequencies_per_assignee.csv', 'w') as f:\n",
    "    csv_writer = csv.DictWriter(f, fieldnames=fieldnames)\n",
    "    csv_writer.writeheader()\n",
    "    for name in unique_person_names:\n",
    "        x = issues_df[issues_df['class'] == name].index.values.tolist()\n",
    "        for i in range(arr.shape[1]):\n",
    "            if arr[x, i].sum() > 0:\n",
    "                for idx in range(arr[x, i].sum()):\n",
    "                    csv_writer.writerow({\n",
    "                        'assignee': name,\n",
    "                        'word': cv.get_feature_names()[i],\n",
    "                        #'frequency': arr[x, i].sum(),\n",
    "                    })\n",
    "                #print((name, cv.get_feature_names()[i], arr[x, i].sum()))\n",
    "\"\"\""
   ]
  },
  {
   "cell_type": "code",
   "execution_count": 27,
   "metadata": {},
   "outputs": [
    {
     "data": {
      "text/plain": [
       "\"fieldnames = ['assignee'] + cv.get_feature_names()\\nwith open('spss_input.csv', 'w') as f:\\n    csv_writer = csv.DictWriter(f, fieldnames=fieldnames)\\n    csv_writer.writeheader()\\n    for i in range(len(issues)):\\n        d = {}\\n        d['assignee'] = issues_df['class'][i]\\n        for (feature, value) in zip(cv.get_feature_names(),X_transformed[i].toarray()[0]):\\n            d[feature] = value\\n        csv_writer.writerow(d)\\n\""
      ]
     },
     "execution_count": 27,
     "metadata": {},
     "output_type": "execute_result"
    }
   ],
   "source": [
    "\"\"\"fieldnames = ['assignee'] + cv.get_feature_names()\n",
    "with open('spss_input.csv', 'w') as f:\n",
    "    csv_writer = csv.DictWriter(f, fieldnames=fieldnames)\n",
    "    csv_writer.writeheader()\n",
    "    for i in range(len(issues)):\n",
    "        d = {}\n",
    "        d['assignee'] = issues_df['class'][i]\n",
    "        for (feature, value) in zip(cv.get_feature_names(),X_transformed[i].toarray()[0]):\n",
    "            d[feature] = value\n",
    "        csv_writer.writerow(d)\n",
    "\"\"\""
   ]
  },
  {
   "cell_type": "code",
   "execution_count": 28,
   "metadata": {},
   "outputs": [
    {
     "data": {
      "text/plain": [
       "\"with open('spss_input_grouped_by_developer_name.csv', 'w') as f:\\n    csv_writer = csv.DictWriter(f, fieldnames=fieldnames)\\n    csv_writer.writeheader()\\n    d = {}\\n    for developer in included_developers:\\n        d[developer] = {\\n            'assignee': developer\\n        }\\n        for feature in cv.get_feature_names():\\n            d[developer][feature] = 0\\n            \\n    for i in range(len(issues)):\\n        for (feature, value) in zip(cv.get_feature_names(),X_transformed[i].toarray()[0]):\\n            d[issues_df['class'][i]][feature] += value\\n    for developer in included_developers:\\n        csv_writer.writerow(d[developer])\\n\""
      ]
     },
     "execution_count": 28,
     "metadata": {},
     "output_type": "execute_result"
    }
   ],
   "source": [
    "\"\"\"with open('spss_input_grouped_by_developer_name.csv', 'w') as f:\n",
    "    csv_writer = csv.DictWriter(f, fieldnames=fieldnames)\n",
    "    csv_writer.writeheader()\n",
    "    d = {}\n",
    "    for developer in included_developers:\n",
    "        d[developer] = {\n",
    "            'assignee': developer\n",
    "        }\n",
    "        for feature in cv.get_feature_names():\n",
    "            d[developer][feature] = 0\n",
    "            \n",
    "    for i in range(len(issues)):\n",
    "        for (feature, value) in zip(cv.get_feature_names(),X_transformed[i].toarray()[0]):\n",
    "            d[issues_df['class'][i]][feature] += value\n",
    "    for developer in included_developers:\n",
    "        csv_writer.writerow(d[developer])\n",
    "\"\"\""
   ]
  },
  {
   "cell_type": "code",
   "execution_count": null,
   "metadata": {},
   "outputs": [],
   "source": []
  },
  {
   "cell_type": "code",
   "execution_count": null,
   "metadata": {},
   "outputs": [],
   "source": []
  },
  {
   "cell_type": "code",
   "execution_count": null,
   "metadata": {},
   "outputs": [],
   "source": []
  },
  {
   "cell_type": "code",
   "execution_count": null,
   "metadata": {},
   "outputs": [],
   "source": []
  },
  {
   "cell_type": "code",
   "execution_count": 29,
   "metadata": {},
   "outputs": [],
   "source": [
    "# load the model from disk\n",
    "#loaded_model = joblib.load('trained_models/naive_clf.gz')\n",
    "#result = loaded_model.score(X_test, y_test)\n",
    "#print(result)"
   ]
  }
 ],
 "metadata": {
  "kernelspec": {
   "display_name": "Python 3",
   "language": "python",
   "name": "python3"
  },
  "language_info": {
   "codemirror_mode": {
    "name": "ipython",
    "version": 3
   },
   "file_extension": ".py",
   "mimetype": "text/x-python",
   "name": "python",
   "nbconvert_exporter": "python",
   "pygments_lexer": "ipython3",
   "version": "3.7.2"
  }
 },
 "nbformat": 4,
 "nbformat_minor": 2
}

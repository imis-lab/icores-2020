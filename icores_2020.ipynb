{
 "cells": [
  {
   "cell_type": "markdown",
   "metadata": {},
   "source": [
    "# ICORES 2020"
   ]
  },
  {
   "cell_type": "code",
   "execution_count": 1,
   "metadata": {},
   "outputs": [
    {
     "name": "stderr",
     "output_type": "stream",
     "text": [
      "[nltk_data] Downloading package stopwords to /home/nkanak/nltk_data...\n",
      "[nltk_data]   Package stopwords is already up-to-date!\n",
      "[nltk_data] Downloading package wordnet to /home/nkanak/nltk_data...\n",
      "[nltk_data]   Package wordnet is already up-to-date!\n"
     ]
    }
   ],
   "source": [
    "import csv\n",
    "import json\n",
    "import pandas as pd\n",
    "\n",
    "from sklearn.model_selection import train_test_split\n",
    "from sklearn.feature_extraction.text import CountVectorizer\n",
    "from sklearn.naive_bayes import MultinomialNB\n",
    "\n",
    "import nltk\n",
    "nltk.download('stopwords')\n",
    "from nltk.corpus import stopwords\n",
    "nltk.download('wordnet')\n",
    "from nltk.stem import WordNetLemmatizer\n",
    "wordnet_lemmatizer = WordNetLemmatizer()\n",
    "\n",
    "from nltk.stem import LancasterStemmer\n",
    "stemmer = LancasterStemmer()\n",
    "\n",
    "from lime.lime_text import LimeTextExplainer\n",
    "\n",
    "from ortools.graph import pywrapgraph\n",
    "\n",
    "import numpy as np\n",
    "import matplotlib.pyplot as plt\n",
    "from sklearn.metrics import confusion_matrix\n",
    "\n",
    "%matplotlib inline"
   ]
  },
  {
   "cell_type": "code",
   "execution_count": 2,
   "metadata": {},
   "outputs": [],
   "source": [
    "# Data has been retrieved from the publicly accessible Jira instance of the open source projects of Apache Foundation.\n",
    "# Check this URL: https://issues.apache.org/jira .\n",
    "with open('test.json') as f:\n",
    "    issues = json.load(f)\n",
    "issues = issues['issues']"
   ]
  },
  {
   "cell_type": "code",
   "execution_count": 3,
   "metadata": {},
   "outputs": [],
   "source": [
    "extra_stopwords = [\"a\", \"about\", \"above\", \"after\", \"again\", \"against\", \"ain\", \"all\", \"am\", \"an\", \"and\", \"any\", \"are\", \"aren\", \"aren't\", \"as\", \"at\", \"be\", \"because\", \"been\", \"before\", \"being\", \"below\", \"between\", \"both\", \"but\", \"by\", \"can\", \"couldn\", \"couldn't\", \"d\", \"did\", \"didn\", \"didn't\", \"do\", \"does\", \"doesn\", \"doesn't\", \"doing\", \"don\", \"don't\", \"down\", \"during\", \"each\", \"few\", \"for\", \"from\", \"further\", \"had\", \"hadn\", \"hadn't\", \"has\", \"hasn\", \"hasn't\", \"have\", \"haven\", \"haven't\", \"having\", \"he\", \"her\", \"here\", \"hers\", \"herself\", \"him\", \"himself\", \"his\", \"how\", \"i\", \"if\", \"in\", \"into\", \"is\", \"isn\", \"isn't\", \"it\", \"it's\", \"its\", \"itself\", \"just\", \"ll\", \"m\", \"ma\", \"me\", \"mightn\", \"mightn't\", \"more\", \"most\", \"mustn\", \"mustn't\", \"my\", \"myself\", \"needn\", \"needn't\", \"no\", \"nor\", \"not\", \"now\", \"o\", \"of\", \"off\", \"on\", \"once\", \"only\", \"or\", \"other\", \"our\", \"ours\", \"ourselves\", \"out\", \"over\", \"own\", \"re\", \"s\", \"same\", \"shan\", \"shan't\", \"she\", \"she's\", \"should\", \"should've\", \"shouldn\", \"shouldn't\", \"so\", \"some\", \"such\", \"t\", \"than\", \"that\", \"that'll\", \"the\", \"their\", \"theirs\", \"them\", \"themselves\", \"then\", \"there\", \"these\", \"they\", \"this\", \"those\", \"through\", \"to\", \"too\", \"under\", \"until\", \"up\", \"ve\", \"very\", \"was\", \"wasn\", \"wasn't\", \"we\", \"were\", \"weren\", \"weren't\", \"what\", \"when\", \"where\", \"which\", \"while\", \"who\", \"whom\", \"why\", \"will\", \"with\", \"won\", \"won't\", \"wouldn\", \"wouldn't\", \"y\", \"you\", \"you'd\", \"you'll\", \"you're\", \"you've\", \"your\", \"yours\", \"yourself\", \"yourselves\", \"could\", \"he'd\", \"he'll\", \"he's\", \"here's\", \"how's\", \"i'd\", \"i'll\", \"i'm\", \"i've\", \"let's\", \"ought\", \"she'd\", \"she'll\", \"that's\", \"there's\", \"they'd\", \"they'll\", \"they're\", \"they've\", \"we'd\", \"we'll\", \"we're\", \"we've\", \"what's\", \"when's\", \"where's\", \"who's\", \"why's\", \"would\"]"
   ]
  },
  {
   "cell_type": "code",
   "execution_count": 4,
   "metadata": {},
   "outputs": [],
   "source": [
    "# Keep only the issues with assignee (HADOOP project).\n",
    "issues = [issue for issue in issues if issue['fields'].get('assignee') is not None]"
   ]
  },
  {
   "cell_type": "code",
   "execution_count": 5,
   "metadata": {},
   "outputs": [
    {
     "data": {
      "text/plain": [
       "42398"
      ]
     },
     "execution_count": 5,
     "metadata": {},
     "output_type": "execute_result"
    }
   ],
   "source": [
    "len(issues)"
   ]
  },
  {
   "cell_type": "code",
   "execution_count": 6,
   "metadata": {},
   "outputs": [],
   "source": [
    "from collections import Counter"
   ]
  },
  {
   "cell_type": "code",
   "execution_count": 7,
   "metadata": {},
   "outputs": [
    {
     "data": {
      "text/plain": [
       "[('rxin', 722), ('szetszwo', 706), ('cloud_fan', 633), ('tlipcon', 561)]"
      ]
     },
     "execution_count": 7,
     "metadata": {},
     "output_type": "execute_result"
    }
   ],
   "source": [
    "# TODO: Modify me!\n",
    "NUMBER_OF_DEVELOPERS_INCLUDED = 4\n",
    "most_common = Counter([issue['fields']['assignee']['key'] for issue in issues]).most_common(NUMBER_OF_DEVELOPERS_INCLUDED)\n",
    "most_common"
   ]
  },
  {
   "cell_type": "code",
   "execution_count": 8,
   "metadata": {},
   "outputs": [],
   "source": [
    "included_developers = [developer_name for developer_name, _ in most_common]"
   ]
  },
  {
   "cell_type": "code",
   "execution_count": 9,
   "metadata": {},
   "outputs": [],
   "source": [
    "# Keep only the issues of the 4 most important employees, i.e. employees with the highest number of assigned issues (statistical significance).\n",
    "issues = [issue for issue in issues if issue['fields']['assignee']['key'] in included_developers]"
   ]
  },
  {
   "cell_type": "code",
   "execution_count": 10,
   "metadata": {},
   "outputs": [
    {
     "data": {
      "text/plain": [
       "['rxin', 'szetszwo', 'cloud_fan', 'tlipcon']"
      ]
     },
     "execution_count": 10,
     "metadata": {},
     "output_type": "execute_result"
    }
   ],
   "source": [
    "included_developers"
   ]
  },
  {
   "cell_type": "code",
   "execution_count": 11,
   "metadata": {},
   "outputs": [
    {
     "data": {
      "text/plain": [
       "2622"
      ]
     },
     "execution_count": 11,
     "metadata": {},
     "output_type": "execute_result"
    }
   ],
   "source": [
    "len(issues)"
   ]
  },
  {
   "cell_type": "code",
   "execution_count": 12,
   "metadata": {},
   "outputs": [
    {
     "name": "stdout",
     "output_type": "stream",
     "text": [
      "{'tlipcon': 0, 'cloud_fan': 1, 'szetszwo': 2, 'rxin': 3}\n"
     ]
    }
   ],
   "source": [
    "unique_assignees_to_number_mapping = {assignee: key for key, assignee in enumerate(list(set(issue['fields']['assignee']['key'] for issue in issues)))}\n",
    "unique_person_names = sorted([key for key in unique_assignees_to_number_mapping], key=lambda name: unique_assignees_to_number_mapping[name])\n",
    "print(unique_assignees_to_number_mapping)"
   ]
  },
  {
   "cell_type": "code",
   "execution_count": 13,
   "metadata": {},
   "outputs": [],
   "source": [
    "columns = {\n",
    "    'class': [issue['fields']['assignee']['key'] for issue in issues],\n",
    "    'text': [(issue['fields']['description'] if issue['fields']['description'] is not None else '') + ' ' + issue['fields']['summary'] for issue in issues],\n",
    "}"
   ]
  },
  {
   "cell_type": "code",
   "execution_count": 14,
   "metadata": {},
   "outputs": [],
   "source": [
    "# Compose and clean up text.\n",
    "# The text of each issue is composed of two attrributes, namely description and summary (see above).\n",
    "# Removal of english stop words is performed as well as lemmatization and stemming.\n",
    "# Lemmatization (a Text Normalization technique) is the process of grouping together the different inflected forms of a word so they can be analysed as a single item.\n",
    "# Stemming is the process of reducing inflected (or sometimes derived) words to their base or root form.\n",
    "# Lemmatization, unlike Stemming, reduces the inflected words properly ensuring that the root word belongs to the language. In Lemmatization root word is called Lemma.\n",
    "# Stemming is different to Lemmatization in the approach it uses to produce root forms of words and the word produced.\n",
    "# Also lemmatization and stemming techniques decrease the number of features of each row as far as machine learning is concerned.\n",
    "for i in range(len(columns['text'])):\n",
    "    columns['text'][i] = ' '.join([stemmer.stem(wordnet_lemmatizer.lemmatize(word.lower(), pos='v')) for word in columns['text'][i].split() if word.lower() not in stopwords.words('english') + extra_stopwords])"
   ]
  },
  {
   "cell_type": "code",
   "execution_count": 15,
   "metadata": {},
   "outputs": [],
   "source": [
    "issues_df = pd.DataFrame.from_dict(columns)\n",
    "#issues_df"
   ]
  },
  {
   "cell_type": "code",
   "execution_count": 16,
   "metadata": {
    "scrolled": true
   },
   "outputs": [
    {
     "data": {
      "text/plain": [
       "rxin         722\n",
       "szetszwo     706\n",
       "cloud_fan    633\n",
       "tlipcon      561\n",
       "Name: class, dtype: int64"
      ]
     },
     "execution_count": 16,
     "metadata": {},
     "output_type": "execute_result"
    }
   ],
   "source": [
    "issues_df['class'].value_counts()"
   ]
  },
  {
   "cell_type": "code",
   "execution_count": 17,
   "metadata": {},
   "outputs": [
    {
     "data": {
      "text/plain": [
       "Text(0, 0.5, 'number of issues')"
      ]
     },
     "execution_count": 17,
     "metadata": {},
     "output_type": "execute_result"
    },
    {
     "data": {
      "image/png": "[encoded data removed]",
      "text/plain": [
       "<Figure size 432x288 with 1 Axes>"
      ]
     },
     "metadata": {
      "needs_background": "light"
     },
     "output_type": "display_data"
    }
   ],
   "source": [
    "ax = issues_df['class'].value_counts().plot(kind='bar')\n",
    "ax.set_xlabel('labels (developers)')\n",
    "ax.set_ylabel('number of issues')"
   ]
  },
  {
   "cell_type": "markdown",
   "metadata": {},
   "source": [
    "## Example"
   ]
  },
  {
   "cell_type": "code",
   "execution_count": 18,
   "metadata": {
    "scrolled": false
   },
   "outputs": [],
   "source": [
    "#issues_df"
   ]
  },
  {
   "cell_type": "code",
   "execution_count": 19,
   "metadata": {},
   "outputs": [],
   "source": [
    "issues_df['label'] = issues_df['class'].map(unique_assignees_to_number_mapping)"
   ]
  },
  {
   "cell_type": "code",
   "execution_count": 20,
   "metadata": {},
   "outputs": [
    {
     "name": "stdout",
     "output_type": "stream",
     "text": [
      "Train size 1756\n",
      "Test size 866\n",
      "Number of features 12496\n",
      "None\n"
     ]
    }
   ],
   "source": [
    "X = issues_df['text']\n",
    "y = issues_df['label']\n",
    "# Tokenization, tag/feature generation and removal of frequently occured tags/words.\n",
    "#cv = CountVectorizer(stop_words='english', max_df=0.6, max_features=200)\n",
    "#cv = CountVectorizer(stop_words='english', max_df=0.6)\n",
    "\n",
    "#from sklearn.ensemble import ExtraTreesClassifier\n",
    "\n",
    "#model = ExtraTreesClassifier(n_estimators=10)\n",
    "#model.fit(X_transformed, y)\n",
    "#importances = [(i, importance) for i, importance in enumerate(model.feature_importances_)]\n",
    "#importances = sorted(importances, reverse=True, key=lambda x: x[1])\n",
    "#feature_names = cv.get_feature_names()\n",
    "\n",
    "#X_transformed = cv.fit_transform(X)\n",
    "\n",
    "cv = CountVectorizer(stop_words='english', max_df=0.6)\n",
    "X_transformed = cv.fit_transform(X)\n",
    "\n",
    "X_train, X_test, y_train, y_test, indices_train, indices_test = train_test_split(X_transformed, y, range(0, len(issues_df)), test_size=0.33, random_state=42)\n",
    "print('Train size %s' % X_train.shape[0])\n",
    "print('Test size %s' % X_test.shape[0])\n",
    "print('Number of features %s' % X_test.shape[1])\n",
    "\n",
    "\n",
    "#for importance in importances:\n",
    "#    print(feature_names[importance[0]], importance[1])\n",
    "print(cv.vocabulary)"
   ]
  },
  {
   "cell_type": "code",
   "execution_count": 21,
   "metadata": {},
   "outputs": [
    {
     "data": {
      "text/plain": [
       "0.7217090069284064"
      ]
     },
     "execution_count": 21,
     "metadata": {},
     "output_type": "execute_result"
    }
   ],
   "source": [
    "# Naive Bayes classifier for multinomial models.\n",
    "# The multinomial Naive Bayes classifier is suitable for classification with discrete features (e.g., word counts for text classification).\n",
    "# The multinomial distribution normally requires integer feature counts. However, in practice, fractional counts such as tf-idf may also work.\n",
    "naive_clf = MultinomialNB()\n",
    "naive_clf.fit(X_train,y_train)\n",
    "naive_clf.score(X_test,y_test)"
   ]
  },
  {
   "cell_type": "code",
   "execution_count": 22,
   "metadata": {},
   "outputs": [
    {
     "data": {
      "image/png": "[encoded data removed]",
      "text/plain": [
       "<Figure size 432x288 with 2 Axes>"
      ]
     },
     "metadata": {
      "needs_background": "light"
     },
     "output_type": "display_data"
    },
    {
     "data": {
      "image/png": "[encoded data removed]",
      "text/plain": [
       "<Figure size 432x288 with 2 Axes>"
      ]
     },
     "metadata": {
      "needs_background": "light"
     },
     "output_type": "display_data"
    }
   ],
   "source": [
    "y_predicted = [unique_person_names[i] for i in  naive_clf.predict(X_transformed[indices_train])]\n",
    "y_true = issues_df.iloc[indices_train]['class'].to_list()\n",
    "class_names = unique_person_names\n",
    "\n",
    "def plot_confusion_matrix(y_true, y_pred, classes,\n",
    "                          normalize=False,\n",
    "                          title=None,\n",
    "                          cmap=plt.cm.Blues):\n",
    "    \"\"\"\n",
    "    This function prints and plots the confusion matrix.\n",
    "    Normalization can be applied by setting `normalize=True`.\n",
    "    \"\"\"\n",
    "    if not title:\n",
    "        if normalize:\n",
    "            title = 'Normalized confusion matrix'\n",
    "        else:\n",
    "            title = 'Confusion matrix, without normalization'\n",
    "\n",
    "    # Compute confusion matrix\n",
    "    cm = confusion_matrix(y_true, y_pred)\n",
    "    # Only use the labels that appear in the data\n",
    "    if normalize:\n",
    "        cm = cm.astype('float') / cm.sum(axis=1)[:, np.newaxis]\n",
    "\n",
    "    fig, ax = plt.subplots()\n",
    "    im = ax.imshow(cm, interpolation='nearest', cmap=cmap)\n",
    "    ax.figure.colorbar(im, ax=ax)\n",
    "    # We want to show all ticks...\n",
    "    ax.set(xticks=np.arange(cm.shape[1]),\n",
    "           yticks=np.arange(cm.shape[0]),\n",
    "           # ... and label them with the respective list entries\n",
    "           xticklabels=classes, yticklabels=classes,\n",
    "           title=title,\n",
    "           ylabel='True label',\n",
    "           xlabel='Predicted label')\n",
    "\n",
    "    # Rotate the tick labels and set their alignment.\n",
    "    plt.setp(ax.get_xticklabels(), rotation=45, ha=\"right\",\n",
    "             rotation_mode=\"anchor\")\n",
    "\n",
    "    # Loop over data dimensions and create text annotations.\n",
    "    fmt = '.2f' if normalize else 'd'\n",
    "    thresh = cm.max() / 2.\n",
    "    for i in range(cm.shape[0]):\n",
    "        for j in range(cm.shape[1]):\n",
    "            ax.text(j, i, format(cm[i, j], fmt),\n",
    "                    ha=\"center\", va=\"center\",\n",
    "                    color=\"white\" if cm[i, j] > thresh else \"black\")\n",
    "    fig.tight_layout()\n",
    "    return ax\n",
    "\n",
    "\n",
    "np.set_printoptions(precision=2)\n",
    "\n",
    "# Plot non-normalized confusion matrix\n",
    "plot_confusion_matrix(y_true, y_predicted, classes=class_names,\n",
    "                      title='Confusion matrix, without normalization')\n",
    "# Plot normalized confusion matrix\n",
    "plot_confusion_matrix(y_true, y_predicted, classes=class_names, normalize=True,\n",
    "                      title='Normalized confusion matrix')\n",
    "plt.show()"
   ]
  },
  {
   "cell_type": "code",
   "execution_count": 23,
   "metadata": {},
   "outputs": [],
   "source": [
    "# Text Explainer for explaining the selected examples.\n",
    "# Reference: https://arxiv.org/abs/1602.04938\n",
    "# The Explanations help us to check the reliability and validity of the trained machine learning model.\n",
    "# The Explanations confirm that the model chooses the right label/class for the right reason (e.g. meaningful words/features).\n",
    "#explainer = LimeTextExplainer(class_names=unique_person_names)"
   ]
  },
  {
   "cell_type": "code",
   "execution_count": 24,
   "metadata": {},
   "outputs": [],
   "source": [
    "#def explain_classification(text, classifier):\n",
    "#    return explainer.explain_instance(text, lambda x: classifier.predict_proba(cv.transform(x)), top_labels=4)"
   ]
  },
  {
   "cell_type": "code",
   "execution_count": 25,
   "metadata": {},
   "outputs": [],
   "source": [
    "#unique_assignees_to_number_mapping"
   ]
  },
  {
   "cell_type": "code",
   "execution_count": 26,
   "metadata": {},
   "outputs": [],
   "source": [
    "#def analyze_selected_examples(index):\n",
    "#    print(index)\n",
    "#    print('Real selected label: %s' % issues_df.iloc[index]['class'])\n",
    "#    print('Probabilities of each label: %s' % naive_clf.predict_proba(cv.transform([issues_df.iloc[index]['text']])))\n",
    "#    print('Summary: %s' % issues[index]['fields']['summary'])\n",
    "#    print('Description: %s' % issues[index]['fields']['description'] if issues[index]['fields']['description'] is not None else '')\n",
    "#    exp = explain_classification(issues_df.iloc[index]['text'], naive_clf)\n",
    "#    exp.show_in_notebook()\n",
    "#    exp.save_to_file('example_explanations/%s.html' % (index))\n",
    "#    return exp"
   ]
  },
  {
   "cell_type": "code",
   "execution_count": 27,
   "metadata": {},
   "outputs": [],
   "source": [
    "#analyze_selected_examples(138)"
   ]
  },
  {
   "cell_type": "code",
   "execution_count": 28,
   "metadata": {},
   "outputs": [],
   "source": [
    "#analyze_selected_examples(65)"
   ]
  },
  {
   "cell_type": "code",
   "execution_count": 29,
   "metadata": {},
   "outputs": [],
   "source": [
    "#analyze_selected_examples(85)"
   ]
  },
  {
   "cell_type": "code",
   "execution_count": 30,
   "metadata": {},
   "outputs": [],
   "source": [
    "#analyze_selected_examples(109)"
   ]
  },
  {
   "cell_type": "code",
   "execution_count": 31,
   "metadata": {},
   "outputs": [],
   "source": [
    "# OR part of the example.\n",
    "# Target?: To maximize the chance of success of the software company.\n",
    "# How?: By assigning the employees in such a way that the total relevance is maximized.\n",
    "# Relevance = skills required by an issue vs skills possessed by an employee.\n",
    "# In our example the 'relevance' is equivalent to the probability (calculated by our model) an employee is suitable for doing a specific issue.\n",
    "# OR algorithm?: Linear Assignment Problem (LAP) (https://developers.google.com/optimization/assignment/simple_assignment)."
   ]
  },
  {
   "cell_type": "code",
   "execution_count": 32,
   "metadata": {},
   "outputs": [],
   "source": [
    "#selected_example_indeces = [138, 65, 85, 109]"
   ]
  },
  {
   "cell_type": "code",
   "execution_count": 33,
   "metadata": {},
   "outputs": [],
   "source": [
    "# Row == employee.\n",
    "# Column == issue.\n",
    "# Transpose a list code: list(map(list, zip(*l)))\n",
    "#relevance_of_each_employee_per_issue = list(map(list, zip(*[\n",
    "#    list(naive_clf.predict_proba(cv.transform([issues_df.iloc[i]['text']]))[0]) for i in selected_example_indeces\n",
    "#])))\n",
    "#relevance_of_each_employee_per_issue_percentage = [[int(round(c*100)) for c in row] for row in relevance_of_each_employee_per_issue]\n",
    "#print('Relevance of each employee per issue: %s' % relevance_of_each_employee_per_issue_percentage)"
   ]
  },
  {
   "cell_type": "code",
   "execution_count": 34,
   "metadata": {},
   "outputs": [],
   "source": [
    "#def assign_employees_to_issues():\n",
    "#  cost = create_data_array()\n",
    "#  rows = len(cost)\n",
    "#  cols = len(cost[0])\n",
    "\n",
    "#  assignment = pywrapgraph.LinearSumAssignment()\n",
    "#  for worker in range(rows):\n",
    "#    for task in range(cols):\n",
    "#      if cost[worker][task]:\n",
    "#        assignment.AddArcWithCost(worker, task, cost[worker][task])\n",
    "#  solve_status = assignment.Solve()\n",
    "#  if solve_status == assignment.OPTIMAL:\n",
    "#    total_relevance = 0\n",
    "#    for i in range(0, assignment.NumNodes()):\n",
    "#      relevance = relevance_of_each_employee_per_issue_percentage[i][assignment.RightMate(i)]\n",
    "#      total_relevance += relevance\n",
    "#      print('Employee %s (index:%s) is assigned to issue %s.  Relevance = %d' % (\n",
    "#            unique_person_names[i],\n",
    "#            i,\n",
    "#            selected_example_indeces[assignment.RightMate(i)],\n",
    "#            relevance))\n",
    "#    print()\n",
    "#    print('Total relevance = ', total_relevance)\n",
    "#  elif solve_status == assignment.INFEASIBLE:\n",
    "#    print('No assignment is possible.')\n",
    "#  elif solve_status == assignment.POSSIBLE_OVERFLOW:\n",
    "#    print('Some input costs are too large and may cause an integer overflow.')\n",
    "\n",
    "#def create_data_array():\n",
    "#  cost = relevance_of_each_employee_per_issue_percentage\n",
    "#  inverse_cost = [[100 - c for c in row] for row in cost]\n",
    "#  return inverse_cost"
   ]
  },
  {
   "cell_type": "code",
   "execution_count": 35,
   "metadata": {},
   "outputs": [],
   "source": [
    "# The Outcome of the example.\n",
    "# Evaluation http://www.hungarianalgorithm.com/solve.php?c=96-95-8-53--0-4-92-1--4-0-0-3--0-1-0-43&obj=max\n",
    "#assign_employees_to_issues()"
   ]
  },
  {
   "cell_type": "code",
   "execution_count": 36,
   "metadata": {},
   "outputs": [],
   "source": [
    "#analyze_selected_examples(51)"
   ]
  },
  {
   "cell_type": "code",
   "execution_count": 37,
   "metadata": {},
   "outputs": [],
   "source": [
    "# Feature Importance with Extra Trees Classifier\n",
    "#from pandas import read_csv\n",
    "#from sklearn.ensemble import ExtraTreesClassifier\n",
    "# load data\n",
    "#url = \"https://raw.githubusercontent.com/jbrownlee/Datasets/master/pima-indians-diabetes.data.csv\"\n",
    "#names = ['preg', 'plas', 'pres', 'skin', 'test', 'mass', 'pedi', 'age', 'class']\n",
    "#dataframe = read_csv(url, names=names)\n",
    "#array = dataframe.values\n",
    "#X = array[:,0:8]\n",
    "#Y = array[:,8]\n",
    "# feature extraction\n",
    "#model = ExtraTreesClassifier(n_estimators=10)\n",
    "#model.fit(X, Y)\n",
    "#print(model.feature_importances_)"
   ]
  },
  {
   "cell_type": "code",
   "execution_count": null,
   "metadata": {},
   "outputs": [],
   "source": []
  },
  {
   "cell_type": "code",
   "execution_count": null,
   "metadata": {},
   "outputs": [],
   "source": []
  },
  {
   "cell_type": "code",
   "execution_count": null,
   "metadata": {},
   "outputs": [],
   "source": []
  }
 ],
 "metadata": {
  "kernelspec": {
   "display_name": "Python 3",
   "language": "python",
   "name": "python3"
  },
  "language_info": {
   "codemirror_mode": {
    "name": "ipython",
    "version": 3
   },
   "file_extension": ".py",
   "mimetype": "text/x-python",
   "name": "python",
   "nbconvert_exporter": "python",
   "pygments_lexer": "ipython3",
   "version": "3.7.2"
  }
 },
 "nbformat": 4,
 "nbformat_minor": 2
}

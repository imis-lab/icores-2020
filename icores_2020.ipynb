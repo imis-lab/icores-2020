{
 "cells": [
  {
   "cell_type": "markdown",
   "metadata": {},
   "source": [
    "# ICORES 2020"
   ]
  },
  {
   "cell_type": "code",
   "execution_count": 1,
   "metadata": {},
   "outputs": [
    {
     "name": "stderr",
     "output_type": "stream",
     "text": [
      "[nltk_data] Downloading package stopwords to /home/nkanak/nltk_data...\n",
      "[nltk_data]   Package stopwords is already up-to-date!\n",
      "[nltk_data] Downloading package wordnet to /home/nkanak/nltk_data...\n",
      "[nltk_data]   Package wordnet is already up-to-date!\n"
     ]
    }
   ],
   "source": [
    "import csv\n",
    "import json\n",
    "import pandas as pd\n",
    "\n",
    "from sklearn.model_selection import train_test_split\n",
    "from sklearn.feature_extraction.text import CountVectorizer\n",
    "from sklearn.naive_bayes import MultinomialNB\n",
    "\n",
    "import nltk\n",
    "nltk.download('stopwords')\n",
    "from nltk.corpus import stopwords\n",
    "nltk.download('wordnet')\n",
    "from nltk.stem import WordNetLemmatizer\n",
    "wordnet_lemmatizer = WordNetLemmatizer()\n",
    "\n",
    "from nltk.stem import LancasterStemmer\n",
    "stemmer = LancasterStemmer()\n",
    "\n",
    "from lime.lime_text import LimeTextExplainer\n",
    "\n",
    "from ortools.graph import pywrapgraph\n",
    "\n",
    "import numpy as np\n",
    "import matplotlib.pyplot as plt\n",
    "from sklearn.metrics import confusion_matrix\n",
    "\n",
    "from collections import Counter\n",
    "\n",
    "from sklearn.linear_model import LogisticRegression\n",
    "from sklearn.svm import SVC\n",
    "from sklearn.neural_network import MLPClassifier\n",
    "from sklearn.neighbors import KNeighborsClassifier\n",
    "\n",
    "import math\n",
    "\n",
    "from sklearn.metrics import precision_recall_fscore_support\n",
    "\n",
    "from sklearn.externals import joblib\n",
    "\n",
    "%matplotlib inline"
   ]
  },
  {
   "cell_type": "code",
   "execution_count": 2,
   "metadata": {},
   "outputs": [],
   "source": [
    "# Data has been retrieved from the publicly accessible Jira instance of the open source projects of Apache Foundation.\n",
    "# Check this URL: https://issues.apache.org/jira .\n",
    "with open('all_issues_minified.json') as f:\n",
    "    issues = json.load(f)\n",
    "issues = issues['issues']"
   ]
  },
  {
   "cell_type": "code",
   "execution_count": 3,
   "metadata": {},
   "outputs": [],
   "source": [
    "extra_stopwords = [\"a\", \"about\", \"above\", \"after\", \"again\", \"against\", \"ain\", \"all\", \"am\", \"an\", \"and\", \"any\", \"are\", \"aren\", \"aren't\", \"as\", \"at\", \"be\", \"because\", \"been\", \"before\", \"being\", \"below\", \"between\", \"both\", \"but\", \"by\", \"can\", \"couldn\", \"couldn't\", \"d\", \"did\", \"didn\", \"didn't\", \"do\", \"does\", \"doesn\", \"doesn't\", \"doing\", \"don\", \"don't\", \"down\", \"during\", \"each\", \"few\", \"for\", \"from\", \"further\", \"had\", \"hadn\", \"hadn't\", \"has\", \"hasn\", \"hasn't\", \"have\", \"haven\", \"haven't\", \"having\", \"he\", \"her\", \"here\", \"hers\", \"herself\", \"him\", \"himself\", \"his\", \"how\", \"i\", \"if\", \"in\", \"into\", \"is\", \"isn\", \"isn't\", \"it\", \"it's\", \"its\", \"itself\", \"just\", \"ll\", \"m\", \"ma\", \"me\", \"mightn\", \"mightn't\", \"more\", \"most\", \"mustn\", \"mustn't\", \"my\", \"myself\", \"needn\", \"needn't\", \"no\", \"nor\", \"not\", \"now\", \"o\", \"of\", \"off\", \"on\", \"once\", \"only\", \"or\", \"other\", \"our\", \"ours\", \"ourselves\", \"out\", \"over\", \"own\", \"re\", \"s\", \"same\", \"shan\", \"shan't\", \"she\", \"she's\", \"should\", \"should've\", \"shouldn\", \"shouldn't\", \"so\", \"some\", \"such\", \"t\", \"than\", \"that\", \"that'll\", \"the\", \"their\", \"theirs\", \"them\", \"themselves\", \"then\", \"there\", \"these\", \"they\", \"this\", \"those\", \"through\", \"to\", \"too\", \"under\", \"until\", \"up\", \"ve\", \"very\", \"was\", \"wasn\", \"wasn't\", \"we\", \"were\", \"weren\", \"weren't\", \"what\", \"when\", \"where\", \"which\", \"while\", \"who\", \"whom\", \"why\", \"will\", \"with\", \"won\", \"won't\", \"wouldn\", \"wouldn't\", \"y\", \"you\", \"you'd\", \"you'll\", \"you're\", \"you've\", \"your\", \"yours\", \"yourself\", \"yourselves\", \"could\", \"he'd\", \"he'll\", \"he's\", \"here's\", \"how's\", \"i'd\", \"i'll\", \"i'm\", \"i've\", \"let's\", \"ought\", \"she'd\", \"she'll\", \"that's\", \"there's\", \"they'd\", \"they'll\", \"they're\", \"they've\", \"we'd\", \"we'll\", \"we're\", \"we've\", \"what's\", \"when's\", \"where's\", \"who's\", \"why's\", \"would\"]"
   ]
  },
  {
   "cell_type": "code",
   "execution_count": 4,
   "metadata": {},
   "outputs": [],
   "source": [
    "# Keep only the issues with assignee (HADOOP project).\n",
    "issues = [issue for issue in issues if issue['fields'].get('assignee') is not None]"
   ]
  },
  {
   "cell_type": "code",
   "execution_count": 5,
   "metadata": {},
   "outputs": [
    {
     "data": {
      "text/plain": [
       "228969"
      ]
     },
     "execution_count": 5,
     "metadata": {},
     "output_type": "execute_result"
    }
   ],
   "source": [
    "len(issues)"
   ]
  },
  {
   "cell_type": "code",
   "execution_count": 6,
   "metadata": {},
   "outputs": [
    {
     "data": {
      "text/plain": [
       "[('adobejira', 29458),\n",
       " ('davsclaus', 6180),\n",
       " ('njiang', 2057),\n",
       " ('aonishuk', 1564),\n",
       " ('tabish121', 1506),\n",
       " ('shazron', 1473),\n",
       " ('aantonenko', 1229),\n",
       " ('andrus', 1216),\n",
       " ('atkach', 1145),\n",
       " ('wesmckinn', 1141),\n",
       " ('julianhyde', 1111),\n",
       " ('andy.seaborne', 1101),\n",
       " ('purplecabbage', 1086),\n",
       " ('ababiichuk', 1028),\n",
       " ('batik-dev@xmlgraphics.apache.org', 1027),\n",
       " ('djohnson', 979),\n",
       " ('jbellis', 967),\n",
       " ('ancosen', 914),\n",
       " ('elserj', 881),\n",
       " ('bowserj', 869),\n",
       " ('onechiporenko', 866)]"
      ]
     },
     "execution_count": 6,
     "metadata": {},
     "output_type": "execute_result"
    }
   ],
   "source": [
    "# TODO: Modify me!\n",
    "NUMBER_OF_DEVELOPERS_INCLUDED = 21\n",
    "most_common = Counter([issue['fields']['assignee']['key'] for issue in issues]).most_common(NUMBER_OF_DEVELOPERS_INCLUDED)\n",
    "most_common"
   ]
  },
  {
   "cell_type": "code",
   "execution_count": 7,
   "metadata": {},
   "outputs": [],
   "source": [
    "included_developers = [developer_name for developer_name, _ in most_common]"
   ]
  },
  {
   "cell_type": "code",
   "execution_count": 8,
   "metadata": {},
   "outputs": [],
   "source": [
    "# Keep only the issues of the 4 most important employees, i.e. employees with the highest number of assigned issues (statistical significance).\n",
    "issues = [issue for issue in issues if issue['fields']['assignee']['key'] in included_developers]"
   ]
  },
  {
   "cell_type": "code",
   "execution_count": 9,
   "metadata": {},
   "outputs": [
    {
     "data": {
      "text/plain": [
       "['adobejira',\n",
       " 'davsclaus',\n",
       " 'njiang',\n",
       " 'aonishuk',\n",
       " 'tabish121',\n",
       " 'shazron',\n",
       " 'aantonenko',\n",
       " 'andrus',\n",
       " 'atkach',\n",
       " 'wesmckinn',\n",
       " 'julianhyde',\n",
       " 'andy.seaborne',\n",
       " 'purplecabbage',\n",
       " 'ababiichuk',\n",
       " 'batik-dev@xmlgraphics.apache.org',\n",
       " 'djohnson',\n",
       " 'jbellis',\n",
       " 'ancosen',\n",
       " 'elserj',\n",
       " 'bowserj',\n",
       " 'onechiporenko']"
      ]
     },
     "execution_count": 9,
     "metadata": {},
     "output_type": "execute_result"
    }
   ],
   "source": [
    "included_developers"
   ]
  },
  {
   "cell_type": "code",
   "execution_count": 10,
   "metadata": {},
   "outputs": [
    {
     "data": {
      "text/plain": [
       "21"
      ]
     },
     "execution_count": 10,
     "metadata": {},
     "output_type": "execute_result"
    }
   ],
   "source": [
    "len(included_developers)"
   ]
  },
  {
   "cell_type": "code",
   "execution_count": 11,
   "metadata": {},
   "outputs": [
    {
     "data": {
      "text/plain": [
       "57798"
      ]
     },
     "execution_count": 11,
     "metadata": {},
     "output_type": "execute_result"
    }
   ],
   "source": [
    "len(issues)"
   ]
  },
  {
   "cell_type": "code",
   "execution_count": 12,
   "metadata": {},
   "outputs": [
    {
     "name": "stdout",
     "output_type": "stream",
     "text": [
      "{'njiang': 0, 'ancosen': 1, 'atkach': 2, 'shazron': 3, 'djohnson': 4, 'jbellis': 5, 'wesmckinn': 6, 'aonishuk': 7, 'onechiporenko': 8, 'ababiichuk': 9, 'davsclaus': 10, 'andrus': 11, 'bowserj': 12, 'julianhyde': 13, 'purplecabbage': 14, 'aantonenko': 15, 'elserj': 16, 'adobejira': 17, 'tabish121': 18, 'andy.seaborne': 19, 'batik-dev@xmlgraphics.apache.org': 20}\n"
     ]
    }
   ],
   "source": [
    "unique_assignees_to_number_mapping = {assignee: key for key, assignee in enumerate(list(set(issue['fields']['assignee']['key'] for issue in issues)))}\n",
    "unique_person_names = sorted([key for key in unique_assignees_to_number_mapping], key=lambda name: unique_assignees_to_number_mapping[name])\n",
    "print(unique_assignees_to_number_mapping)"
   ]
  },
  {
   "cell_type": "code",
   "execution_count": 13,
   "metadata": {},
   "outputs": [],
   "source": [
    "columns = {\n",
    "    'class': [issue['fields']['assignee']['key'] for issue in issues],\n",
    "    'text': [(issue['fields']['description'] if issue['fields']['description'] is not None else '') + ' ' + issue['fields']['summary'] for issue in issues],\n",
    "}"
   ]
  },
  {
   "cell_type": "code",
   "execution_count": 14,
   "metadata": {},
   "outputs": [],
   "source": [
    "# Compose and clean up text.\n",
    "# The text of each issue is composed of two attrributes, namely description and summary (see above).\n",
    "# Removal of english stop words is performed as well as lemmatization and stemming.\n",
    "# Lemmatization (a Text Normalization technique) is the process of grouping together the different inflected forms of a word so they can be analysed as a single item.\n",
    "# Stemming is the process of reducing inflected (or sometimes derived) words to their base or root form.\n",
    "# Lemmatization, unlike Stemming, reduces the inflected words properly ensuring that the root word belongs to the language. In Lemmatization root word is called Lemma.\n",
    "# Stemming is different to Lemmatization in the approach it uses to produce root forms of words and the word produced.\n",
    "# Also lemmatization and stemming techniques decrease the number of features of each row as far as machine learning is concerned.\n",
    "for i in range(len(columns['text'])):\n",
    "    columns['text'][i] = ' '.join([stemmer.stem(wordnet_lemmatizer.lemmatize(word.lower(), pos='v')) for word in columns['text'][i].split() if word.lower() not in stopwords.words('english') + extra_stopwords])"
   ]
  },
  {
   "cell_type": "code",
   "execution_count": 15,
   "metadata": {},
   "outputs": [],
   "source": [
    "issues_df = pd.DataFrame.from_dict(columns)"
   ]
  },
  {
   "cell_type": "code",
   "execution_count": 16,
   "metadata": {
    "scrolled": true
   },
   "outputs": [
    {
     "data": {
      "text/plain": [
       "adobejira                           29458\n",
       "davsclaus                            6180\n",
       "njiang                               2057\n",
       "aonishuk                             1564\n",
       "tabish121                            1506\n",
       "shazron                              1473\n",
       "aantonenko                           1229\n",
       "andrus                               1216\n",
       "atkach                               1145\n",
       "wesmckinn                            1141\n",
       "julianhyde                           1111\n",
       "andy.seaborne                        1101\n",
       "purplecabbage                        1086\n",
       "ababiichuk                           1028\n",
       "batik-dev@xmlgraphics.apache.org     1027\n",
       "djohnson                              979\n",
       "jbellis                               967\n",
       "ancosen                               914\n",
       "elserj                                881\n",
       "bowserj                               869\n",
       "onechiporenko                         866\n",
       "Name: class, dtype: int64"
      ]
     },
     "execution_count": 16,
     "metadata": {},
     "output_type": "execute_result"
    }
   ],
   "source": [
    "issues_df['class'].value_counts()"
   ]
  },
  {
   "cell_type": "code",
   "execution_count": 17,
   "metadata": {},
   "outputs": [
    {
     "data": {
      "text/plain": [
       "Text(0, 0.5, 'number of issues')"
      ]
     },
     "execution_count": 17,
     "metadata": {},
     "output_type": "execute_result"
    },
    {
     "data": {
      "image/png": "[encoded data removed]",
      "text/plain": [
       "<Figure size 432x288 with 1 Axes>"
      ]
     },
     "metadata": {
      "needs_background": "light"
     },
     "output_type": "display_data"
    }
   ],
   "source": [
    "ax = issues_df['class'].value_counts().plot(kind='bar')\n",
    "ax.set_xlabel('labels (developers)')\n",
    "ax.set_ylabel('number of issues')"
   ]
  },
  {
   "cell_type": "code",
   "execution_count": 18,
   "metadata": {},
   "outputs": [
    {
     "data": {
      "text/plain": [
       "adobejira                           0.509672\n",
       "davsclaus                           0.106924\n",
       "njiang                              0.035589\n",
       "aonishuk                            0.027060\n",
       "tabish121                           0.026056\n",
       "shazron                             0.025485\n",
       "aantonenko                          0.021264\n",
       "andrus                              0.021039\n",
       "atkach                              0.019810\n",
       "wesmckinn                           0.019741\n",
       "julianhyde                          0.019222\n",
       "andy.seaborne                       0.019049\n",
       "purplecabbage                       0.018790\n",
       "ababiichuk                          0.017786\n",
       "batik-dev@xmlgraphics.apache.org    0.017769\n",
       "djohnson                            0.016938\n",
       "jbellis                             0.016731\n",
       "ancosen                             0.015814\n",
       "elserj                              0.015243\n",
       "bowserj                             0.015035\n",
       "onechiporenko                       0.014983\n",
       "Name: class, dtype: float64"
      ]
     },
     "execution_count": 18,
     "metadata": {},
     "output_type": "execute_result"
    }
   ],
   "source": [
    "issues_df['class'].value_counts(normalize=True)"
   ]
  },
  {
   "cell_type": "markdown",
   "metadata": {},
   "source": [
    "## Example"
   ]
  },
  {
   "cell_type": "code",
   "execution_count": 19,
   "metadata": {},
   "outputs": [],
   "source": [
    "issues_df['label'] = issues_df['class'].map(unique_assignees_to_number_mapping)"
   ]
  },
  {
   "cell_type": "code",
   "execution_count": 20,
   "metadata": {},
   "outputs": [
    {
     "name": "stdout",
     "output_type": "stream",
     "text": [
      "Train size 38724\n",
      "Test size 19074\n",
      "Number of features 144944\n"
     ]
    }
   ],
   "source": [
    "X = issues_df['text']\n",
    "y = issues_df['label']\n",
    "\n",
    "# Tokenization, tag/feature generation and removal of frequently occured tags/words.\n",
    "cv = CountVectorizer(stop_words='english', max_df=0.6)\n",
    "X_transformed = cv.fit_transform(X)\n",
    "\n",
    "X_train, X_test, y_train, y_test, indices_train, indices_test = train_test_split(X_transformed, y, range(0, len(issues_df)), test_size=0.33, random_state=42)\n",
    "print('Train size %s' % X_train.shape[0])\n",
    "print('Test size %s' % X_test.shape[0])\n",
    "print('Number of features %s' % X_test.shape[1])"
   ]
  },
  {
   "cell_type": "code",
   "execution_count": null,
   "metadata": {},
   "outputs": [
    {
     "name": "stdout",
     "output_type": "stream",
     "text": [
      "Naive bayes #####\n",
      "0.8139351997483485\n",
      "(0.8139351997483485, 0.8139351997483485, 0.8139351997483485, None)\n",
      "(0.7814146457862783, 0.574919890303864, 0.6173828865979648, None)\n",
      "(0.8363068749150397, 0.8139351997483485, 0.7950237649377737, None)\n",
      "Logistic Regression #####\n"
     ]
    },
    {
     "name": "stderr",
     "output_type": "stream",
     "text": [
      "/home/nkanak/anaconda3/lib/python3.7/site-packages/sklearn/linear_model/logistic.py:758: ConvergenceWarning: lbfgs failed to converge. Increase the number of iterations.\n",
      "  \"of iterations.\", ConvergenceWarning)\n"
     ]
    },
    {
     "name": "stdout",
     "output_type": "stream",
     "text": [
      "0.8529411764705882\n",
      "(0.8529411764705882, 0.8529411764705882, 0.8529411764705882, None)\n",
      "(0.7317182098285725, 0.7062109569641452, 0.7176962549340358, None)\n",
      "(0.8494885095389072, 0.8529411764705882, 0.8504944421502303, None)\n",
      "SVM ######\n",
      "0.5282583621683967\n",
      "(0.5282583621683967, 0.5282583621683967, 0.5282583621683967, None)\n",
      "(0.6386695672089543, 0.0732304201239423, 0.07804597479661265, None)\n",
      "(0.5833987125120258, 0.5282583621683967, 0.38553962346218273, None)\n"
     ]
    },
    {
     "name": "stderr",
     "output_type": "stream",
     "text": [
      "/home/nkanak/anaconda3/lib/python3.7/site-packages/sklearn/metrics/classification.py:1143: UndefinedMetricWarning: Precision and F-score are ill-defined and being set to 0.0 in labels with no predicted samples.\n",
      "  'precision', 'predicted', average, warn_for)\n"
     ]
    },
    {
     "name": "stdout",
     "output_type": "stream",
     "text": [
      "k-NN #####\n",
      "number of neighbors: 16\n",
      "0.6821851735346545\n",
      "(0.6821851735346545, 0.6821851735346545, 0.6821851735346545, None)\n",
      "(0.5089495633064745, 0.37382975510443467, 0.3958786959125006, None)\n",
      "(0.6795385590586908, 0.6821851735346545, 0.6592431710240743, None)\n",
      "k-NN sqrt #####\n",
      "number of neighbors: 241\n",
      "0.5967809583726539\n",
      "(0.5967809583726539, 0.5967809583726539, 0.5967809583726539, None)\n",
      "(0.6277154435286779, 0.18472529338194216, 0.2135013781793965, None)\n",
      "(0.6280486440146706, 0.5967809583726539, 0.5104307012443379, None)\n",
      "Neural Network 1000 500 #####\n",
      "0.853413022963196\n",
      "(0.853413022963196, 0.853413022963196, 0.853413022963196, None)\n",
      "(0.7338756236456276, 0.7069228679203037, 0.7178254866490826, None)\n",
      "(0.8500871343652813, 0.853413022963196, 0.850464870830599, None)\n",
      "Neural Network 2000 1000 #####\n",
      "0.8601237286358394\n",
      "(0.8601237286358394, 0.8601237286358394, 0.8601237286358394, None)\n",
      "(0.7413154962114045, 0.7181969965428442, 0.7281346867273417, None)\n",
      "(0.8573429555577936, 0.8601237286358394, 0.8577739331709844, None)\n",
      "Neural Network 3000 2000 #####\n"
     ]
    }
   ],
   "source": [
    "def pickle_model(filename, model):\n",
    "    joblib.dump(model, filename)\n",
    "\n",
    "# Naive Bayes classifier for multinomial models.\n",
    "# The multinomial Naive Bayes classifier is suitable for classification with discrete features (e.g., word counts for text classification).\n",
    "# The multinomial distribution normally requires integer feature counts. However, in practice, fractional counts such as tf-idf may also work.\n",
    "print('Naive bayes #####')\n",
    "naive_clf = MultinomialNB()\n",
    "naive_clf.fit(X_train,y_train)\n",
    "print(naive_clf.score(X_test,y_test))\n",
    "y_predicted = naive_clf.predict(X_test)\n",
    "print(precision_recall_fscore_support(y_test, y_predicted, average='micro'))\n",
    "print(precision_recall_fscore_support(y_test, y_predicted, average='macro'))\n",
    "print(precision_recall_fscore_support(y_test, y_predicted, average='weighted'))\n",
    "pickle_model('trained_models/naive_clf.gz', naive_clf)\n",
    "\n",
    "print('Logistic Regression #####')\n",
    "logistic_clf = LogisticRegression(random_state=0, solver='lbfgs', multi_class='multinomial')\n",
    "logistic_clf.fit(X_train, y_train)\n",
    "print(logistic_clf.score(X_test, y_test))\n",
    "y_predicted = logistic_clf.predict(X_test)\n",
    "print(precision_recall_fscore_support(y_test, y_predicted, average='micro'))\n",
    "print(precision_recall_fscore_support(y_test, y_predicted, average='macro'))\n",
    "print(precision_recall_fscore_support(y_test, y_predicted, average='weighted'))\n",
    "pickle_model('trained_models/logistic_clf.gz', logistic_clf)\n",
    "\n",
    "print('SVM ######')\n",
    "svm_clf = SVC(gamma='auto') \n",
    "svm_clf.fit(X_train, y_train)\n",
    "print(svm_clf.score(X_test, y_test))\n",
    "y_predicted = svm_clf.predict(X_test)\n",
    "print(precision_recall_fscore_support(y_test, y_predicted, average='micro'))\n",
    "print(precision_recall_fscore_support(y_test, y_predicted, average='macro'))\n",
    "print(precision_recall_fscore_support(y_test, y_predicted, average='weighted'))\n",
    "pickle_model('trained_models/svm_clf.gz', svm_clf)\n",
    "\n",
    "print('k-NN #####')\n",
    "number_of_neighbors = math.ceil(math.log2(len(issues_df)))\n",
    "print('number of neighbors: %s' % (number_of_neighbors))\n",
    "knn_clf = KNeighborsClassifier(n_neighbors=number_of_neighbors)\n",
    "knn_clf.fit(X_train, y_train)\n",
    "print(knn_clf.score(X_test, y_test))\n",
    "y_predicted = knn_clf.predict(X_test)\n",
    "print(precision_recall_fscore_support(y_test, y_predicted, average='micro'))\n",
    "print(precision_recall_fscore_support(y_test, y_predicted, average='macro'))\n",
    "print(precision_recall_fscore_support(y_test, y_predicted, average='weighted'))\n",
    "pickle_model('trained_models/knn_clf.gz', knn_clf)\n",
    "\n",
    "print('k-NN sqrt #####')\n",
    "number_of_neighbors = math.ceil(math.sqrt(len(issues_df)))\n",
    "print('number of neighbors: %s' % (number_of_neighbors))\n",
    "knn_clf = KNeighborsClassifier(n_neighbors=number_of_neighbors)\n",
    "knn_clf.fit(X_train, y_train)\n",
    "print(knn_clf.score(X_test, y_test))\n",
    "y_predicted = knn_clf.predict(X_test)\n",
    "print(precision_recall_fscore_support(y_test, y_predicted, average='micro'))\n",
    "print(precision_recall_fscore_support(y_test, y_predicted, average='macro'))\n",
    "print(precision_recall_fscore_support(y_test, y_predicted, average='weighted'))\n",
    "pickle_model('trained_models/knn_clf_sqrt.gz', knn_clf)\n",
    "\n",
    "print('Neural Network 1000 500 #####')\n",
    "neural_clf = MLPClassifier(solver='adam', hidden_layer_sizes=(1000, 500), random_state=42)\n",
    "neural_clf.fit(X_train, y_train)\n",
    "print(neural_clf.score(X_test, y_test))\n",
    "y_predicted = neural_clf.predict(X_test)\n",
    "print(precision_recall_fscore_support(y_test, y_predicted, average='micro'))\n",
    "print(precision_recall_fscore_support(y_test, y_predicted, average='macro'))\n",
    "print(precision_recall_fscore_support(y_test, y_predicted, average='weighted'))\n",
    "pickle_model('trained_models/neural_clf_1000_500.gz', neural_clf)\n",
    "\n",
    "print('Neural Network 2000 1000 #####')\n",
    "neural_clf = MLPClassifier(solver='adam', hidden_layer_sizes=(2000, 1000), random_state=42)\n",
    "neural_clf.fit(X_train, y_train)\n",
    "print(neural_clf.score(X_test, y_test))\n",
    "y_predicted = neural_clf.predict(X_test)\n",
    "print(precision_recall_fscore_support(y_test, y_predicted, average='micro'))\n",
    "print(precision_recall_fscore_support(y_test, y_predicted, average='macro'))\n",
    "print(precision_recall_fscore_support(y_test, y_predicted, average='weighted'))\n",
    "pickle_model('trained_models/neural_clf_2000_1000.gz', neural_clf)\n",
    "\n",
    "print('Neural Network 3000 2000 #####')\n",
    "neural_clf = MLPClassifier(solver='adam', hidden_layer_sizes=(3000, 2000), random_state=42)\n",
    "neural_clf.fit(X_train, y_train)\n",
    "print(neural_clf.score(X_test, y_test))\n",
    "y_predicted = neural_clf.predict(X_test)\n",
    "print(precision_recall_fscore_support(y_test, y_predicted, average='micro'))\n",
    "print(precision_recall_fscore_support(y_test, y_predicted, average='macro'))\n",
    "print(precision_recall_fscore_support(y_test, y_predicted, average='weighted'))\n",
    "pickle_model('trained_models/neural_clf_3000_2000.gz', neural_clf)\n",
    "\n",
    "print('Neural Network 4000 1000 #####')\n",
    "neural_clf = MLPClassifier(solver='adam', hidden_layer_sizes=(4000, 1000), random_state=42)\n",
    "neural_clf.fit(X_train, y_train)\n",
    "print(neural_clf.score(X_test, y_test))\n",
    "y_predicted = neural_clf.predict(X_test)\n",
    "print(precision_recall_fscore_support(y_test, y_predicted, average='micro'))\n",
    "print(precision_recall_fscore_support(y_test, y_predicted, average='macro'))\n",
    "print(precision_recall_fscore_support(y_test, y_predicted, average='weighted'))\n",
    "pickle_model('trained_models/neural_clf_4000_1000.gz', neural_clf)"
   ]
  },
  {
   "cell_type": "code",
   "execution_count": null,
   "metadata": {},
   "outputs": [],
   "source": [
    "len(cv.vocabulary_)"
   ]
  },
  {
   "cell_type": "code",
   "execution_count": null,
   "metadata": {},
   "outputs": [],
   "source": [
    "len(cv.get_feature_names())"
   ]
  },
  {
   "cell_type": "code",
   "execution_count": null,
   "metadata": {},
   "outputs": [],
   "source": [
    "len(cv.stop_words_)"
   ]
  },
  {
   "cell_type": "code",
   "execution_count": null,
   "metadata": {},
   "outputs": [],
   "source": [
    "# arr = X_transformed.toarray()"
   ]
  },
  {
   "cell_type": "code",
   "execution_count": null,
   "metadata": {},
   "outputs": [],
   "source": [
    "\"\"\"fieldnames = ['assignee', 'word']\n",
    "with open('word_frequencies_per_assignee.csv', 'w') as f:\n",
    "    csv_writer = csv.DictWriter(f, fieldnames=fieldnames)\n",
    "    csv_writer.writeheader()\n",
    "    for name in unique_person_names:\n",
    "        x = issues_df[issues_df['class'] == name].index.values.tolist()\n",
    "        for i in range(arr.shape[1]):\n",
    "            if arr[x, i].sum() > 0:\n",
    "                for idx in range(arr[x, i].sum()):\n",
    "                    csv_writer.writerow({\n",
    "                        'assignee': name,\n",
    "                        'word': cv.get_feature_names()[i],\n",
    "                        #'frequency': arr[x, i].sum(),\n",
    "                    })\n",
    "                #print((name, cv.get_feature_names()[i], arr[x, i].sum()))\n",
    "\"\"\""
   ]
  },
  {
   "cell_type": "code",
   "execution_count": null,
   "metadata": {},
   "outputs": [],
   "source": [
    "\"\"\"fieldnames = ['assignee'] + cv.get_feature_names()\n",
    "with open('spss_input.csv', 'w') as f:\n",
    "    csv_writer = csv.DictWriter(f, fieldnames=fieldnames)\n",
    "    csv_writer.writeheader()\n",
    "    for i in range(len(issues)):\n",
    "        d = {}\n",
    "        d['assignee'] = issues_df['class'][i]\n",
    "        for (feature, value) in zip(cv.get_feature_names(),X_transformed[i].toarray()[0]):\n",
    "            d[feature] = value\n",
    "        csv_writer.writerow(d)\n",
    "\"\"\""
   ]
  },
  {
   "cell_type": "code",
   "execution_count": null,
   "metadata": {},
   "outputs": [],
   "source": [
    "\"\"\"with open('spss_input_grouped_by_developer_name.csv', 'w') as f:\n",
    "    csv_writer = csv.DictWriter(f, fieldnames=fieldnames)\n",
    "    csv_writer.writeheader()\n",
    "    d = {}\n",
    "    for developer in included_developers:\n",
    "        d[developer] = {\n",
    "            'assignee': developer\n",
    "        }\n",
    "        for feature in cv.get_feature_names():\n",
    "            d[developer][feature] = 0\n",
    "            \n",
    "    for i in range(len(issues)):\n",
    "        for (feature, value) in zip(cv.get_feature_names(),X_transformed[i].toarray()[0]):\n",
    "            d[issues_df['class'][i]][feature] += value\n",
    "    for developer in included_developers:\n",
    "        csv_writer.writerow(d[developer])\n",
    "\"\"\""
   ]
  },
  {
   "cell_type": "code",
   "execution_count": null,
   "metadata": {},
   "outputs": [],
   "source": []
  },
  {
   "cell_type": "code",
   "execution_count": null,
   "metadata": {},
   "outputs": [],
   "source": []
  },
  {
   "cell_type": "code",
   "execution_count": null,
   "metadata": {},
   "outputs": [],
   "source": []
  },
  {
   "cell_type": "code",
   "execution_count": null,
   "metadata": {},
   "outputs": [],
   "source": []
  },
  {
   "cell_type": "code",
   "execution_count": null,
   "metadata": {},
   "outputs": [],
   "source": [
    "# load the model from disk\n",
    "#loaded_model = joblib.load('trained_models/naive_clf.gz')\n",
    "#result = loaded_model.score(X_test, y_test)\n",
    "#print(result)"
   ]
  },
  {
   "cell_type": "code",
   "execution_count": null,
   "metadata": {},
   "outputs": [],
   "source": []
  }
 ],
 "metadata": {
  "kernelspec": {
   "display_name": "Python 3",
   "language": "python",
   "name": "python3"
  },
  "language_info": {
   "codemirror_mode": {
    "name": "ipython",
    "version": 3
   },
   "file_extension": ".py",
   "mimetype": "text/x-python",
   "name": "python",
   "nbconvert_exporter": "python",
   "pygments_lexer": "ipython3",
   "version": "3.7.2"
  }
 },
 "nbformat": 4,
 "nbformat_minor": 2
}

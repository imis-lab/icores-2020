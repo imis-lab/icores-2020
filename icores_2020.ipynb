{
 "cells": [
  {
   "cell_type": "markdown",
   "metadata": {},
   "source": [
    "# ICORES 2020"
   ]
  },
  {
   "cell_type": "code",
   "execution_count": 1,
   "metadata": {},
   "outputs": [
    {
     "name": "stderr",
     "output_type": "stream",
     "text": [
      "[nltk_data] Downloading package stopwords to /home/nkanak/nltk_data...\n",
      "[nltk_data]   Package stopwords is already up-to-date!\n",
      "[nltk_data] Downloading package wordnet to /home/nkanak/nltk_data...\n",
      "[nltk_data]   Package wordnet is already up-to-date!\n"
     ]
    }
   ],
   "source": [
    "import csv\n",
    "import json\n",
    "import pandas as pd\n",
    "\n",
    "from sklearn.model_selection import train_test_split\n",
    "from sklearn.feature_extraction.text import CountVectorizer\n",
    "from sklearn.naive_bayes import MultinomialNB\n",
    "\n",
    "import nltk\n",
    "nltk.download('stopwords')\n",
    "from nltk.corpus import stopwords\n",
    "nltk.download('wordnet')\n",
    "from nltk.stem import WordNetLemmatizer\n",
    "wordnet_lemmatizer = WordNetLemmatizer()\n",
    "\n",
    "from nltk.stem import LancasterStemmer\n",
    "stemmer = LancasterStemmer()\n",
    "\n",
    "from lime.lime_text import LimeTextExplainer\n",
    "\n",
    "from ortools.graph import pywrapgraph\n",
    "\n",
    "import numpy as np\n",
    "import matplotlib.pyplot as plt\n",
    "from sklearn.metrics import confusion_matrix\n",
    "\n",
    "from collections import Counter\n",
    "\n",
    "%matplotlib inline"
   ]
  },
  {
   "cell_type": "code",
   "execution_count": 2,
   "metadata": {},
   "outputs": [],
   "source": [
    "# Data has been retrieved from the publicly accessible Jira instance of the open source projects of Apache Foundation.\n",
    "# Check this URL: https://issues.apache.org/jira .\n",
    "with open('all_issues_minified.json') as f:\n",
    "    issues = json.load(f)\n",
    "issues = issues['issues']"
   ]
  },
  {
   "cell_type": "code",
   "execution_count": 3,
   "metadata": {},
   "outputs": [],
   "source": [
    "extra_stopwords = [\"a\", \"about\", \"above\", \"after\", \"again\", \"against\", \"ain\", \"all\", \"am\", \"an\", \"and\", \"any\", \"are\", \"aren\", \"aren't\", \"as\", \"at\", \"be\", \"because\", \"been\", \"before\", \"being\", \"below\", \"between\", \"both\", \"but\", \"by\", \"can\", \"couldn\", \"couldn't\", \"d\", \"did\", \"didn\", \"didn't\", \"do\", \"does\", \"doesn\", \"doesn't\", \"doing\", \"don\", \"don't\", \"down\", \"during\", \"each\", \"few\", \"for\", \"from\", \"further\", \"had\", \"hadn\", \"hadn't\", \"has\", \"hasn\", \"hasn't\", \"have\", \"haven\", \"haven't\", \"having\", \"he\", \"her\", \"here\", \"hers\", \"herself\", \"him\", \"himself\", \"his\", \"how\", \"i\", \"if\", \"in\", \"into\", \"is\", \"isn\", \"isn't\", \"it\", \"it's\", \"its\", \"itself\", \"just\", \"ll\", \"m\", \"ma\", \"me\", \"mightn\", \"mightn't\", \"more\", \"most\", \"mustn\", \"mustn't\", \"my\", \"myself\", \"needn\", \"needn't\", \"no\", \"nor\", \"not\", \"now\", \"o\", \"of\", \"off\", \"on\", \"once\", \"only\", \"or\", \"other\", \"our\", \"ours\", \"ourselves\", \"out\", \"over\", \"own\", \"re\", \"s\", \"same\", \"shan\", \"shan't\", \"she\", \"she's\", \"should\", \"should've\", \"shouldn\", \"shouldn't\", \"so\", \"some\", \"such\", \"t\", \"than\", \"that\", \"that'll\", \"the\", \"their\", \"theirs\", \"them\", \"themselves\", \"then\", \"there\", \"these\", \"they\", \"this\", \"those\", \"through\", \"to\", \"too\", \"under\", \"until\", \"up\", \"ve\", \"very\", \"was\", \"wasn\", \"wasn't\", \"we\", \"were\", \"weren\", \"weren't\", \"what\", \"when\", \"where\", \"which\", \"while\", \"who\", \"whom\", \"why\", \"will\", \"with\", \"won\", \"won't\", \"wouldn\", \"wouldn't\", \"y\", \"you\", \"you'd\", \"you'll\", \"you're\", \"you've\", \"your\", \"yours\", \"yourself\", \"yourselves\", \"could\", \"he'd\", \"he'll\", \"he's\", \"here's\", \"how's\", \"i'd\", \"i'll\", \"i'm\", \"i've\", \"let's\", \"ought\", \"she'd\", \"she'll\", \"that's\", \"there's\", \"they'd\", \"they'll\", \"they're\", \"they've\", \"we'd\", \"we'll\", \"we're\", \"we've\", \"what's\", \"when's\", \"where's\", \"who's\", \"why's\", \"would\"]"
   ]
  },
  {
   "cell_type": "code",
   "execution_count": 4,
   "metadata": {},
   "outputs": [],
   "source": [
    "# Keep only the issues with assignee (HADOOP project).\n",
    "issues = [issue for issue in issues if issue['fields'].get('assignee') is not None]"
   ]
  },
  {
   "cell_type": "code",
   "execution_count": 5,
   "metadata": {},
   "outputs": [
    {
     "data": {
      "text/plain": [
       "228969"
      ]
     },
     "execution_count": 5,
     "metadata": {},
     "output_type": "execute_result"
    }
   ],
   "source": [
    "len(issues)"
   ]
  },
  {
   "cell_type": "code",
   "execution_count": 6,
   "metadata": {},
   "outputs": [
    {
     "data": {
      "text/plain": [
       "[('adobejira', 29458),\n",
       " ('davsclaus', 6180),\n",
       " ('njiang', 2057),\n",
       " ('aonishuk', 1564),\n",
       " ('tabish121', 1506),\n",
       " ('shazron', 1473),\n",
       " ('aantonenko', 1229),\n",
       " ('andrus', 1216),\n",
       " ('atkach', 1145),\n",
       " ('wesmckinn', 1141),\n",
       " ('julianhyde', 1111),\n",
       " ('andy.seaborne', 1101),\n",
       " ('purplecabbage', 1086),\n",
       " ('ababiichuk', 1028),\n",
       " ('batik-dev@xmlgraphics.apache.org', 1027),\n",
       " ('djohnson', 979),\n",
       " ('jbellis', 967),\n",
       " ('ancosen', 914),\n",
       " ('elserj', 881),\n",
       " ('bowserj', 869)]"
      ]
     },
     "execution_count": 6,
     "metadata": {},
     "output_type": "execute_result"
    }
   ],
   "source": [
    "# TODO: Modify me!\n",
    "NUMBER_OF_DEVELOPERS_INCLUDED = 20\n",
    "most_common = Counter([issue['fields']['assignee']['key'] for issue in issues]).most_common(NUMBER_OF_DEVELOPERS_INCLUDED)\n",
    "most_common"
   ]
  },
  {
   "cell_type": "code",
   "execution_count": 7,
   "metadata": {},
   "outputs": [],
   "source": [
    "included_developers = [developer_name for developer_name, _ in most_common]"
   ]
  },
  {
   "cell_type": "code",
   "execution_count": 8,
   "metadata": {},
   "outputs": [],
   "source": [
    "# Keep only the issues of the 4 most important employees, i.e. employees with the highest number of assigned issues (statistical significance).\n",
    "issues = [issue for issue in issues if issue['fields']['assignee']['key'] in included_developers]"
   ]
  },
  {
   "cell_type": "code",
   "execution_count": 9,
   "metadata": {},
   "outputs": [
    {
     "data": {
      "text/plain": [
       "['adobejira',\n",
       " 'davsclaus',\n",
       " 'njiang',\n",
       " 'aonishuk',\n",
       " 'tabish121',\n",
       " 'shazron',\n",
       " 'aantonenko',\n",
       " 'andrus',\n",
       " 'atkach',\n",
       " 'wesmckinn',\n",
       " 'julianhyde',\n",
       " 'andy.seaborne',\n",
       " 'purplecabbage',\n",
       " 'ababiichuk',\n",
       " 'batik-dev@xmlgraphics.apache.org',\n",
       " 'djohnson',\n",
       " 'jbellis',\n",
       " 'ancosen',\n",
       " 'elserj',\n",
       " 'bowserj']"
      ]
     },
     "execution_count": 9,
     "metadata": {},
     "output_type": "execute_result"
    }
   ],
   "source": [
    "included_developers"
   ]
  },
  {
   "cell_type": "code",
   "execution_count": 10,
   "metadata": {},
   "outputs": [
    {
     "data": {
      "text/plain": [
       "56932"
      ]
     },
     "execution_count": 10,
     "metadata": {},
     "output_type": "execute_result"
    }
   ],
   "source": [
    "len(issues)"
   ]
  },
  {
   "cell_type": "code",
   "execution_count": 11,
   "metadata": {},
   "outputs": [
    {
     "name": "stdout",
     "output_type": "stream",
     "text": [
      "{'njiang': 0, 'jbellis': 1, 'batik-dev@xmlgraphics.apache.org': 2, 'elserj': 3, 'ancosen': 4, 'aantonenko': 5, 'davsclaus': 6, 'aonishuk': 7, 'ababiichuk': 8, 'purplecabbage': 9, 'julianhyde': 10, 'andrus': 11, 'adobejira': 12, 'wesmckinn': 13, 'bowserj': 14, 'shazron': 15, 'djohnson': 16, 'andy.seaborne': 17, 'atkach': 18, 'tabish121': 19}\n"
     ]
    }
   ],
   "source": [
    "unique_assignees_to_number_mapping = {assignee: key for key, assignee in enumerate(list(set(issue['fields']['assignee']['key'] for issue in issues)))}\n",
    "unique_person_names = sorted([key for key in unique_assignees_to_number_mapping], key=lambda name: unique_assignees_to_number_mapping[name])\n",
    "print(unique_assignees_to_number_mapping)"
   ]
  },
  {
   "cell_type": "code",
   "execution_count": 12,
   "metadata": {},
   "outputs": [],
   "source": [
    "columns = {\n",
    "    'class': [issue['fields']['assignee']['key'] for issue in issues],\n",
    "    'text': [(issue['fields']['description'] if issue['fields']['description'] is not None else '') + ' ' + issue['fields']['summary'] for issue in issues],\n",
    "}"
   ]
  },
  {
   "cell_type": "code",
   "execution_count": 13,
   "metadata": {},
   "outputs": [],
   "source": [
    "# Compose and clean up text.\n",
    "# The text of each issue is composed of two attrributes, namely description and summary (see above).\n",
    "# Removal of english stop words is performed as well as lemmatization and stemming.\n",
    "# Lemmatization (a Text Normalization technique) is the process of grouping together the different inflected forms of a word so they can be analysed as a single item.\n",
    "# Stemming is the process of reducing inflected (or sometimes derived) words to their base or root form.\n",
    "# Lemmatization, unlike Stemming, reduces the inflected words properly ensuring that the root word belongs to the language. In Lemmatization root word is called Lemma.\n",
    "# Stemming is different to Lemmatization in the approach it uses to produce root forms of words and the word produced.\n",
    "# Also lemmatization and stemming techniques decrease the number of features of each row as far as machine learning is concerned.\n",
    "for i in range(len(columns['text'])):\n",
    "    columns['text'][i] = ' '.join([stemmer.stem(wordnet_lemmatizer.lemmatize(word.lower(), pos='v')) for word in columns['text'][i].split() if word.lower() not in stopwords.words('english') + extra_stopwords])"
   ]
  },
  {
   "cell_type": "code",
   "execution_count": 14,
   "metadata": {},
   "outputs": [],
   "source": [
    "issues_df = pd.DataFrame.from_dict(columns)"
   ]
  },
  {
   "cell_type": "code",
   "execution_count": 15,
   "metadata": {
    "scrolled": true
   },
   "outputs": [
    {
     "data": {
      "text/plain": [
       "adobejira                           29458\n",
       "davsclaus                            6180\n",
       "njiang                               2057\n",
       "aonishuk                             1564\n",
       "tabish121                            1506\n",
       "shazron                              1473\n",
       "aantonenko                           1229\n",
       "andrus                               1216\n",
       "atkach                               1145\n",
       "wesmckinn                            1141\n",
       "julianhyde                           1111\n",
       "andy.seaborne                        1101\n",
       "purplecabbage                        1086\n",
       "ababiichuk                           1028\n",
       "batik-dev@xmlgraphics.apache.org     1027\n",
       "djohnson                              979\n",
       "jbellis                               967\n",
       "ancosen                               914\n",
       "elserj                                881\n",
       "bowserj                               869\n",
       "Name: class, dtype: int64"
      ]
     },
     "execution_count": 15,
     "metadata": {},
     "output_type": "execute_result"
    }
   ],
   "source": [
    "issues_df['class'].value_counts()"
   ]
  },
  {
   "cell_type": "code",
   "execution_count": 16,
   "metadata": {},
   "outputs": [
    {
     "data": {
      "text/plain": [
       "Text(0, 0.5, 'number of issues')"
      ]
     },
     "execution_count": 16,
     "metadata": {},
     "output_type": "execute_result"
    },
    {
     "data": {
      "image/png": "[encoded data removed]",
      "text/plain": [
       "<Figure size 432x288 with 1 Axes>"
      ]
     },
     "metadata": {
      "needs_background": "light"
     },
     "output_type": "display_data"
    }
   ],
   "source": [
    "ax = issues_df['class'].value_counts().plot(kind='bar')\n",
    "ax.set_xlabel('labels (developers)')\n",
    "ax.set_ylabel('number of issues')"
   ]
  },
  {
   "cell_type": "code",
   "execution_count": 17,
   "metadata": {},
   "outputs": [
    {
     "data": {
      "text/plain": [
       "adobejira                           0.517424\n",
       "davsclaus                           0.108551\n",
       "njiang                              0.036131\n",
       "aonishuk                            0.027471\n",
       "tabish121                           0.026453\n",
       "shazron                             0.025873\n",
       "aantonenko                          0.021587\n",
       "andrus                              0.021359\n",
       "atkach                              0.020112\n",
       "wesmckinn                           0.020041\n",
       "julianhyde                          0.019515\n",
       "andy.seaborne                       0.019339\n",
       "purplecabbage                       0.019075\n",
       "ababiichuk                          0.018057\n",
       "batik-dev@xmlgraphics.apache.org    0.018039\n",
       "djohnson                            0.017196\n",
       "jbellis                             0.016985\n",
       "ancosen                             0.016054\n",
       "elserj                              0.015475\n",
       "bowserj                             0.015264\n",
       "Name: class, dtype: float64"
      ]
     },
     "execution_count": 17,
     "metadata": {},
     "output_type": "execute_result"
    }
   ],
   "source": [
    "issues_df['class'].value_counts(normalize=True)"
   ]
  },
  {
   "cell_type": "markdown",
   "metadata": {},
   "source": [
    "## Example"
   ]
  },
  {
   "cell_type": "code",
   "execution_count": 18,
   "metadata": {},
   "outputs": [],
   "source": [
    "issues_df['label'] = issues_df['class'].map(unique_assignees_to_number_mapping)"
   ]
  },
  {
   "cell_type": "code",
   "execution_count": 19,
   "metadata": {},
   "outputs": [
    {
     "name": "stdout",
     "output_type": "stream",
     "text": [
      "Train size 38144\n",
      "Test size 18788\n",
      "Number of features 144325\n"
     ]
    }
   ],
   "source": [
    "X = issues_df['text']\n",
    "y = issues_df['label']\n",
    "\n",
    "# Tokenization, tag/feature generation and removal of frequently occured tags/words.\n",
    "cv = CountVectorizer(stop_words='english', max_df=0.6)\n",
    "X_transformed = cv.fit_transform(X)\n",
    "\n",
    "X_train, X_test, y_train, y_test, indices_train, indices_test = train_test_split(X_transformed, y, range(0, len(issues_df)), test_size=0.33, random_state=42)\n",
    "print('Train size %s' % X_train.shape[0])\n",
    "print('Test size %s' % X_test.shape[0])\n",
    "print('Number of features %s' % X_test.shape[1])"
   ]
  },
  {
   "cell_type": "code",
   "execution_count": 20,
   "metadata": {},
   "outputs": [
    {
     "data": {
      "text/plain": [
       "0.828933361720247"
      ]
     },
     "execution_count": 20,
     "metadata": {},
     "output_type": "execute_result"
    }
   ],
   "source": [
    "# Naive Bayes classifier for multinomial models.\n",
    "# The multinomial Naive Bayes classifier is suitable for classification with discrete features (e.g., word counts for text classification).\n",
    "# The multinomial distribution normally requires integer feature counts. However, in practice, fractional counts such as tf-idf may also work.\n",
    "naive_clf = MultinomialNB()\n",
    "naive_clf.fit(X_train,y_train)\n",
    "naive_clf.score(X_test,y_test)"
   ]
  },
  {
   "cell_type": "code",
   "execution_count": 21,
   "metadata": {},
   "outputs": [
    {
     "data": {
      "text/plain": [
       "144325"
      ]
     },
     "execution_count": 21,
     "metadata": {},
     "output_type": "execute_result"
    }
   ],
   "source": [
    "len(cv.vocabulary_)"
   ]
  },
  {
   "cell_type": "code",
   "execution_count": 22,
   "metadata": {},
   "outputs": [
    {
     "data": {
      "text/plain": [
       "144325"
      ]
     },
     "execution_count": 22,
     "metadata": {},
     "output_type": "execute_result"
    }
   ],
   "source": [
    "len(cv.get_feature_names())"
   ]
  },
  {
   "cell_type": "code",
   "execution_count": 23,
   "metadata": {},
   "outputs": [
    {
     "data": {
      "text/plain": [
       "0"
      ]
     },
     "execution_count": 23,
     "metadata": {},
     "output_type": "execute_result"
    }
   ],
   "source": [
    "len(cv.stop_words_)"
   ]
  },
  {
   "cell_type": "code",
   "execution_count": null,
   "metadata": {},
   "outputs": [],
   "source": []
  },
  {
   "cell_type": "code",
   "execution_count": null,
   "metadata": {},
   "outputs": [],
   "source": [
    "\"\"\"fieldnames = ['assignee', 'word', 'frequency']\n",
    "with open('word_frequencies_per_assignee_old.csv', 'w') as f:\n",
    "    csv_writer = csv.DictWriter(f, fieldnames=fieldnames)\n",
    "    csv_writer.writeheader()\n",
    "    for name in unique_person_names:\n",
    "        x = issues_df[issues_df['class'] == name].index.values.tolist()\n",
    "        for i in range(arr.shape[1]):\n",
    "            if arr[x, i].sum() > 0:\n",
    "                csv_writer.writerow({\n",
    "                    'assignee': name,\n",
    "                    'word': cv.get_feature_names()[i],\n",
    "                    'frequency': arr[x, i].sum(),\n",
    "                })\n",
    "                #print((name, cv.get_feature_names()[i], arr[x, i].sum()))\n",
    "\"\"\""
   ]
  }
 ],
 "metadata": {
  "kernelspec": {
   "display_name": "Python 3",
   "language": "python",
   "name": "python3"
  },
  "language_info": {
   "codemirror_mode": {
    "name": "ipython",
    "version": 3
   },
   "file_extension": ".py",
   "mimetype": "text/x-python",
   "name": "python",
   "nbconvert_exporter": "python",
   "pygments_lexer": "ipython3",
   "version": "3.7.2"
  }
 },
 "nbformat": 4,
 "nbformat_minor": 2
}

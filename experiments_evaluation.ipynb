{
 "cells": [
  {
   "cell_type": "markdown",
   "metadata": {},
   "source": [
    "# ICORES 2020"
   ]
  },
  {
   "cell_type": "code",
   "execution_count": null,
   "metadata": {},
   "outputs": [],
   "source": [
    "import pandas as pd\n",
    "import utils\n",
    "\n",
    "%matplotlib inline"
   ]
  },
  {
   "cell_type": "code",
   "execution_count": null,
   "metadata": {},
   "outputs": [],
   "source": [
    "issues_df = pd.read_pickle('pickled_objects/all_issues_df.pickle')\n",
    "class_names = utils.load_object_from_pickle('pickled_objects/all_issues_class_names.gz')\n",
    "unique_person_names = utils.load_object_from_pickle('pickled_objects/all_issues_unique_person_names.gz')\n",
    "count_vectorizer = utils.load_object_from_pickle('pickled_objects/all_issues_count_vectorizer.gz')\n",
    "indices_test = utils.load_object_from_pickle('pickled_objects/indices_test.gz')"
   ]
  },
  {
   "cell_type": "code",
   "execution_count": null,
   "metadata": {},
   "outputs": [],
   "source": [
    "# selected_example_indeces = [55037, 54092, 15655, 9317]\n",
    "selected_example_indeces = [5488, 52795, 52289, 4550, 5632, 12409, 9763, 47311, 47260, 3705, 4016, 52911]\n",
    "#for i in selected_example_indeces:\n",
    "#    print(issues_df['class'][i])"
   ]
  },
  {
   "cell_type": "code",
   "execution_count": null,
   "metadata": {},
   "outputs": [],
   "source": [
    "explainer = utils.TextClassificationExplainer(class_names, count_vectorizer)"
   ]
  },
  {
   "cell_type": "code",
   "execution_count": null,
   "metadata": {},
   "outputs": [],
   "source": [
    "def analyze(explanations_filename_prefix):\n",
    "    # utils.analyze_selected_examples(138, issues_df, classifier, count_vectorizer, explainer)\n",
    "    for index in selected_example_indeces:\n",
    "        print(issues_df.iloc[index]['class'])\n",
    "        explanation = utils.explain_in_notebook_verbose(index, classifier, explainer, issues_df, count_vectorizer, top_labels=2)\n",
    "        explainer.explanation_save_to_html_file('explanations/%s_%s.html' % (explanations_filename_prefix, index), explanation)\n",
    "\n",
    "    print('=== Assignment ===')\n",
    "    relevance_of_each_employee_per_issue_percentage = utils.get_relevance_of_each_employee_per_issue_percentage(classifier, count_vectorizer, issues_df, selected_example_indeces)\n",
    "    for i in range(len(relevance_of_each_employee_per_issue_percentage)):\n",
    "        relevance_of_each_employee_per_issue_percentage[i] = relevance_of_each_employee_per_issue_percentage[i]\n",
    "    utils.assign_employees_to_issues(selected_example_indeces, relevance_of_each_employee_per_issue_percentage, unique_person_names)"
   ]
  },
  {
   "cell_type": "markdown",
   "metadata": {},
   "source": [
    "## 5 Experiments"
   ]
  },
  {
   "cell_type": "markdown",
   "metadata": {},
   "source": [
    "### 5.1 Naive Bayes"
   ]
  },
  {
   "cell_type": "code",
   "execution_count": null,
   "metadata": {},
   "outputs": [],
   "source": [
    "classifier = utils.load_object_from_pickle('trained_models/naive_clf.gz')"
   ]
  },
  {
   "cell_type": "code",
   "execution_count": null,
   "metadata": {},
   "outputs": [],
   "source": [
    "analyze('naive')"
   ]
  },
  {
   "cell_type": "markdown",
   "metadata": {},
   "source": [
    "### 5.2 Logistic Regression"
   ]
  },
  {
   "cell_type": "code",
   "execution_count": null,
   "metadata": {},
   "outputs": [],
   "source": [
    "classifier = utils.load_object_from_pickle('trained_models/logistic_clf.gz')"
   ]
  },
  {
   "cell_type": "code",
   "execution_count": null,
   "metadata": {},
   "outputs": [],
   "source": [
    "analyze('logistic')"
   ]
  },
  {
   "cell_type": "markdown",
   "metadata": {},
   "source": [
    "### 5.3 Support Vector Machine (SVM)"
   ]
  },
  {
   "cell_type": "code",
   "execution_count": null,
   "metadata": {},
   "outputs": [],
   "source": [
    "classifier = utils.load_object_from_pickle('trained_models/svm_clf.gz')"
   ]
  },
  {
   "cell_type": "code",
   "execution_count": null,
   "metadata": {},
   "outputs": [],
   "source": [
    "analyze('svm')"
   ]
  },
  {
   "cell_type": "markdown",
   "metadata": {},
   "source": [
    "### 5.4 k-nearest Neighbors (k-NN)"
   ]
  },
  {
   "cell_type": "code",
   "execution_count": null,
   "metadata": {},
   "outputs": [],
   "source": [
    "classifier = utils.load_object_from_pickle('trained_models/knn_clf.gz')"
   ]
  },
  {
   "cell_type": "code",
   "execution_count": null,
   "metadata": {},
   "outputs": [],
   "source": [
    "analyze('knn')"
   ]
  },
  {
   "cell_type": "markdown",
   "metadata": {},
   "source": [
    "### 5.5 Neural Network"
   ]
  },
  {
   "cell_type": "code",
   "execution_count": null,
   "metadata": {},
   "outputs": [],
   "source": [
    "classifier = utils.load_object_from_pickle('trained_models/neural_clf_1000_500.gz')"
   ]
  },
  {
   "cell_type": "code",
   "execution_count": null,
   "metadata": {},
   "outputs": [],
   "source": [
    "analyze('neural')"
   ]
  },
  {
   "cell_type": "code",
   "execution_count": null,
   "metadata": {},
   "outputs": [],
   "source": []
  }
 ],
 "metadata": {
  "kernelspec": {
   "display_name": "Python 3",
   "language": "python",
   "name": "python3"
  },
  "language_info": {
   "codemirror_mode": {
    "name": "ipython",
    "version": 3
   },
   "file_extension": ".py",
   "mimetype": "text/x-python",
   "name": "python",
   "nbconvert_exporter": "python",
   "pygments_lexer": "ipython3",
   "version": "3.7.2"
  }
 },
 "nbformat": 4,
 "nbformat_minor": 2
}
